{
 "cells": [
  {
   "cell_type": "markdown",
   "metadata": {},
   "source": [
    "## 宿題3"
   ]
  },
  {
   "cell_type": "code",
   "execution_count": 74,
   "metadata": {
    "ExecuteTime": {
     "end_time": "2018-05-06T02:01:48.033640Z",
     "start_time": "2018-05-06T02:01:48.030444Z"
    }
   },
   "outputs": [],
   "source": [
    "import numpy as np\n",
    "from numpy.random import randn, rand\n",
    "import matplotlib.pyplot as plt"
   ]
  },
  {
   "cell_type": "code",
   "execution_count": 75,
   "metadata": {
    "ExecuteTime": {
     "end_time": "2018-05-06T02:01:49.467577Z",
     "start_time": "2018-05-06T02:01:49.460723Z"
    }
   },
   "outputs": [],
   "source": [
    "# data generation\n",
    "def gen(n=600, alpha=0.1):\n",
    "    n1 = np.sum(rand(n, 1) < alpha)\n",
    "    n2 = n - n1\n",
    "    x1 = np.concatenate([randn(1, n1) + 2, 3 * randn(1, n1)])\n",
    "    x2 = np.concatenate([randn(1, n2) - 2, 3 * randn(1, n2)])\n",
    "    \n",
    "    return x1, x2"
   ]
  },
  {
   "cell_type": "code",
   "execution_count": 76,
   "metadata": {
    "ExecuteTime": {
     "end_time": "2018-05-06T02:01:50.628115Z",
     "start_time": "2018-05-06T02:01:50.625160Z"
    }
   },
   "outputs": [],
   "source": [
    "x1, x2 = gen(n=600, alpha=0.1)"
   ]
  },
  {
   "cell_type": "code",
   "execution_count": 77,
   "metadata": {
    "ExecuteTime": {
     "end_time": "2018-05-06T02:01:51.193353Z",
     "start_time": "2018-05-06T02:01:51.189811Z"
    }
   },
   "outputs": [
    {
     "data": {
      "text/plain": [
       "(2, 57)"
      ]
     },
     "execution_count": 77,
     "metadata": {},
     "output_type": "execute_result"
    }
   ],
   "source": [
    "x1.shape"
   ]
  },
  {
   "cell_type": "code",
   "execution_count": 86,
   "metadata": {
    "ExecuteTime": {
     "end_time": "2018-05-06T02:08:04.525833Z",
     "start_time": "2018-05-06T02:08:04.517481Z"
    }
   },
   "outputs": [
    {
     "data": {
      "text/plain": [
       "array([ 2.00854671, -0.13242283])"
      ]
     },
     "execution_count": 86,
     "metadata": {},
     "output_type": "execute_result"
    }
   ],
   "source": [
    "x1.mean(axis=1)"
   ]
  },
  {
   "cell_type": "code",
   "execution_count": 78,
   "metadata": {
    "ExecuteTime": {
     "end_time": "2018-05-06T02:02:04.001116Z",
     "start_time": "2018-05-06T02:02:03.990187Z"
    }
   },
   "outputs": [],
   "source": [
    "def plot(x1, x2, line=None):\n",
    "    x, y = x1\n",
    "    plt.plot(x, y, 'ro', ms=3, label='class1')\n",
    "    x, y = x2\n",
    "    plt.plot(x, y, 'bx', ms=3, label='class2')\n",
    "    \n",
    "    if not (line is None):\n",
    "            plt.plot(line[0], line[1], 'k-', ms=5)\n",
    "            \n",
    "    plt.xlim(-10, 10)\n",
    "    plt.ylim(-10, 10)\n",
    "    \n",
    "    plt.show()"
   ]
  },
  {
   "cell_type": "code",
   "execution_count": 87,
   "metadata": {
    "ExecuteTime": {
     "end_time": "2018-05-06T02:08:28.109595Z",
     "start_time": "2018-05-06T02:08:28.002736Z"
    }
   },
   "outputs": [
    {
     "data": {
      "image/png": "[encoded data removed]",
      "text/plain": [
       "<matplotlib.figure.Figure at 0x115bedef0>"
      ]
     },
     "metadata": {},
     "output_type": "display_data"
    }
   ],
   "source": [
    "plot(x1, x2)"
   ]
  },
  {
   "cell_type": "code",
   "execution_count": 125,
   "metadata": {
    "ExecuteTime": {
     "end_time": "2018-05-06T02:28:48.516250Z",
     "start_time": "2018-05-06T02:28:48.461238Z"
    }
   },
   "outputs": [],
   "source": [
    "def fisher(x1, x2):\n",
    "    x1 = x1.T\n",
    "    x2 = x2.T\n",
    "    n1 = x1.shape[0]\n",
    "    n2 = x2.shape[0]\n",
    "    n = n1 + n2\n",
    "    \n",
    "    # dimension\n",
    "    DIM = x1.shape[1]\n",
    "    \n",
    "    \n",
    "    # average\n",
    "    mean1 = np.mean(x1, axis=0)\n",
    "    mean1 = mean1.reshape(DIM, 1)\n",
    "    mean2 = np.mean(x2, axis=0)\n",
    "    mean2 = mean2.reshape(DIM, 1)\n",
    "    \n",
    "    # covariance\n",
    "    sample_cov_1 = np.zeros((DIM, DIM))\n",
    "    sample_cov_2 = np.zeros((DIM, DIM))\n",
    "    for x_i in x1:\n",
    "        x_i = x_i.reshape(DIM, 1)\n",
    "        sample_cov_1 += np.dot((x_i - mean1), (x_i - mean1).T)\n",
    "        sample_cov_1 = sample_cov_1 / n1\n",
    "    for x_i in x2:\n",
    "        x_i = x_i.reshape(DIM, 1)\n",
    "        sample_cov_2 += np.dot((x_i - mean2), (x_i - mean2).T)\n",
    "        sample_cov_2 = sample_cov_2 / n2\n",
    "    sample_cov = (n1/n) * sample_cov_1 + (n2/n) * sample_cov_2\n",
    "    \n",
    "    sample_cov_inv = np.linalg.inv(sample_cov + 0.000001 * np.eye(DIM))\n",
    "    \n",
    "    a = np.dot(sample_cov_inv, (mean1 - mean2))\n",
    "    if (n1 - n2 > 1e-10):\n",
    "        b = -0.5 * (np.dot(mean1.T, np.dot(sample_cov_inv, mean1)) - np.dot(mean2.T, np.dot(sample_cov_inv, mean2))) + np.log(n1/n2)\n",
    "    else:\n",
    "        b = -0.5 * (np.dot(mean1.T, np.dot(sample_cov_inv, mean1)) - np.dot(mean2.T, np.dot(sample_cov_inv, mean2)))\n",
    "    b = b.reshape(1)\n",
    "    return a, b\n",
    "    "
   ]
  },
  {
   "cell_type": "code",
   "execution_count": 126,
   "metadata": {
    "ExecuteTime": {
     "end_time": "2018-05-06T02:28:49.087577Z",
     "start_time": "2018-05-06T02:28:49.075851Z"
    }
   },
   "outputs": [],
   "source": [
    "a, b = fisher(x1, x2)"
   ]
  },
  {
   "cell_type": "code",
   "execution_count": 127,
   "metadata": {
    "ExecuteTime": {
     "end_time": "2018-05-06T02:28:49.727220Z",
     "start_time": "2018-05-06T02:28:49.723353Z"
    }
   },
   "outputs": [
    {
     "data": {
      "text/plain": [
       "array([[ 19514.68837224],\n",
       "       [ -4254.09443593]])"
      ]
     },
     "execution_count": 127,
     "metadata": {},
     "output_type": "execute_result"
    }
   ],
   "source": [
    "a"
   ]
  },
  {
   "cell_type": "code",
   "execution_count": 128,
   "metadata": {
    "ExecuteTime": {
     "end_time": "2018-05-06T02:28:50.326748Z",
     "start_time": "2018-05-06T02:28:50.322967Z"
    }
   },
   "outputs": [
    {
     "data": {
      "text/plain": [
       "array([-254.54769175])"
      ]
     },
     "execution_count": 128,
     "metadata": {},
     "output_type": "execute_result"
    }
   ],
   "source": [
    "b"
   ]
  },
  {
   "cell_type": "code",
   "execution_count": 129,
   "metadata": {
    "ExecuteTime": {
     "end_time": "2018-05-06T02:28:55.739101Z",
     "start_time": "2018-05-06T02:28:55.734236Z"
    }
   },
   "outputs": [],
   "source": [
    "def line_est(a, b, x):\n",
    "    if abs(a[1]) > 1e-10:\n",
    "        c = - a[0]/a[1]\n",
    "        d = - b/a[1]\n",
    "    return [x, c*x+d]"
   ]
  },
  {
   "cell_type": "code",
   "execution_count": 130,
   "metadata": {
    "ExecuteTime": {
     "end_time": "2018-05-06T02:28:56.457915Z",
     "start_time": "2018-05-06T02:28:56.454285Z"
    }
   },
   "outputs": [],
   "source": [
    "x = np.linspace(-10, 10, 3000)\n",
    "l = line_est(a, b, x)"
   ]
  },
  {
   "cell_type": "code",
   "execution_count": 132,
   "metadata": {
    "ExecuteTime": {
     "end_time": "2018-05-06T02:29:02.290369Z",
     "start_time": "2018-05-06T02:29:02.179044Z"
    },
    "scrolled": true
   },
   "outputs": [
    {
     "data": {
      "image/png": "[encoded data removed]",
      "text/plain": [
       "<matplotlib.figure.Figure at 0x115da1470>"
      ]
     },
     "metadata": {},
     "output_type": "display_data"
    }
   ],
   "source": [
    "plot(x1, x2, l)"
   ]
  },
  {
   "cell_type": "markdown",
   "metadata": {},
   "source": [
    "## 宿題4"
   ]
  },
  {
   "cell_type": "code",
   "execution_count": 6,
   "metadata": {
    "ExecuteTime": {
     "end_time": "2018-05-08T04:11:32.445178Z",
     "start_time": "2018-05-08T04:11:32.092453Z"
    }
   },
   "outputs": [],
   "source": [
    "import numpy as np\n",
    "import matplotlib.pyplot as plt\n",
    "import matplotlib.cm as cm\n",
    "from collections import defaultdict"
   ]
  },
  {
   "cell_type": "code",
   "execution_count": 7,
   "metadata": {
    "ExecuteTime": {
     "end_time": "2018-05-08T04:11:33.809373Z",
     "start_time": "2018-05-08T04:11:33.706933Z"
    }
   },
   "outputs": [],
   "source": [
    "test_data = np.loadtxt('data/digit_train0.csv', delimiter=',')"
   ]
  },
  {
   "cell_type": "code",
   "execution_count": 8,
   "metadata": {
    "ExecuteTime": {
     "end_time": "2018-05-08T04:16:23.235667Z",
     "start_time": "2018-05-08T04:16:23.228357Z"
    },
    "scrolled": true
   },
   "outputs": [
    {
     "data": {
      "text/plain": [
       "array([[-1.     , -0.99998, -0.99842, ..., -0.93151, -0.99234, -0.99966],\n",
       "       [-1.     , -1.     , -0.99976, ..., -0.99984, -1.     , -1.     ],\n",
       "       [-1.     , -0.99997, -0.99954, ..., -0.99906, -0.99999, -1.     ],\n",
       "       ..., \n",
       "       [-0.99959, -0.99301, -0.9626 , ..., -0.99458, -0.9998 , -1.     ],\n",
       "       [-1.     , -0.9999 , -0.99131, ..., -0.99853, -0.99994, -1.     ],\n",
       "       [-1.     , -1.     , -1.     , ..., -0.99596, -0.99919, -0.99992]])"
      ]
     },
     "execution_count": 8,
     "metadata": {},
     "output_type": "execute_result"
    }
   ],
   "source": [
    "test_data"
   ]
  },
  {
   "cell_type": "code",
   "execution_count": 9,
   "metadata": {
    "ExecuteTime": {
     "end_time": "2018-05-08T04:16:39.667693Z",
     "start_time": "2018-05-08T04:16:39.663132Z"
    }
   },
   "outputs": [
    {
     "data": {
      "text/plain": [
       "(500, 256)"
      ]
     },
     "execution_count": 9,
     "metadata": {},
     "output_type": "execute_result"
    }
   ],
   "source": [
    "test_data.shape"
   ]
  },
  {
   "cell_type": "code",
   "execution_count": 21,
   "metadata": {
    "ExecuteTime": {
     "end_time": "2018-05-08T04:20:25.528967Z",
     "start_time": "2018-05-08T04:20:25.523995Z"
    },
    "scrolled": true
   },
   "outputs": [],
   "source": [
    "test_label = np.array([1]* 500)"
   ]
  },
  {
   "cell_type": "code",
   "execution_count": 24,
   "metadata": {
    "ExecuteTime": {
     "end_time": "2018-05-08T04:23:33.137036Z",
     "start_time": "2018-05-08T04:23:33.129721Z"
    }
   },
   "outputs": [
    {
     "data": {
      "text/plain": [
       "(500,)"
      ]
     },
     "execution_count": 24,
     "metadata": {},
     "output_type": "execute_result"
    }
   ],
   "source": [
    "test_label.shape"
   ]
  },
  {
   "cell_type": "code",
   "execution_count": 28,
   "metadata": {
    "ExecuteTime": {
     "end_time": "2018-05-08T04:24:37.560030Z",
     "start_time": "2018-05-08T04:24:37.552284Z"
    }
   },
   "outputs": [
    {
     "ename": "ValueError",
     "evalue": "could not broadcast input array from shape (500,256) into shape (500)",
     "output_type": "error",
     "traceback": [
      "\u001b[0;31m---------------------------------------------------------------------------\u001b[0m",
      "\u001b[0;31mValueError\u001b[0m                                Traceback (most recent call last)",
      "\u001b[0;32m<ipython-input-28-48ba8900dcf3>\u001b[0m in \u001b[0;36m<module>\u001b[0;34m()\u001b[0m\n\u001b[0;32m----> 1\u001b[0;31m \u001b[0mtest\u001b[0m \u001b[0;34m=\u001b[0m \u001b[0mnp\u001b[0m\u001b[0;34m.\u001b[0m\u001b[0marray\u001b[0m\u001b[0;34m(\u001b[0m\u001b[0;34m[\u001b[0m\u001b[0mtest_label\u001b[0m\u001b[0;34m,\u001b[0m \u001b[0mtest_data\u001b[0m\u001b[0;34m]\u001b[0m\u001b[0;34m)\u001b[0m\u001b[0;34m\u001b[0m\u001b[0m\n\u001b[0m",
      "\u001b[0;31mValueError\u001b[0m: could not broadcast input array from shape (500,256) into shape (500)"
     ]
    }
   ],
   "source": [
    "test = np.array([test_label, test_data])"
   ]
  },
  {
   "cell_type": "code",
   "execution_count": 27,
   "metadata": {
    "ExecuteTime": {
     "end_time": "2018-05-08T04:24:31.685427Z",
     "start_time": "2018-05-08T04:24:31.677136Z"
    }
   },
   "outputs": [
    {
     "ename": "AttributeError",
     "evalue": "'list' object has no attribute 'shape'",
     "output_type": "error",
     "traceback": [
      "\u001b[0;31m---------------------------------------------------------------------------\u001b[0m",
      "\u001b[0;31mAttributeError\u001b[0m                            Traceback (most recent call last)",
      "\u001b[0;32m<ipython-input-27-8ae592785626>\u001b[0m in \u001b[0;36m<module>\u001b[0;34m()\u001b[0m\n\u001b[0;32m----> 1\u001b[0;31m \u001b[0mtest\u001b[0m\u001b[0;34m.\u001b[0m\u001b[0mshape\u001b[0m\u001b[0;34m\u001b[0m\u001b[0m\n\u001b[0m",
      "\u001b[0;31mAttributeError\u001b[0m: 'list' object has no attribute 'shape'"
     ]
    }
   ],
   "source": [
    "test.shape"
   ]
  },
  {
   "cell_type": "code",
   "execution_count": null,
   "metadata": {},
   "outputs": [],
   "source": [
    "plt.figure(figsize=(10,9))\n",
    "\n",
    "size = 16\n",
    "\n",
    "for i in range(1):\n",
    "    result_dict = defaultdict(float)\n",
    "    \n",
    "    X, Y = np.meshgrid(range(size), range(size))"
   ]
  }
 ],
 "metadata": {
  "kernelspec": {
   "display_name": "Python 3",
   "language": "python",
   "name": "python3"
  },
  "language_info": {
   "codemirror_mode": {
    "name": "ipython",
    "version": 3
   },
   "file_extension": ".py",
   "mimetype": "text/x-python",
   "name": "python",
   "nbconvert_exporter": "python",
   "pygments_lexer": "ipython3",
   "version": "3.6.4"
  },
  "latex_envs": {
   "LaTeX_envs_menu_present": true,
   "autocomplete": true,
   "bibliofile": "biblio.bib",
   "cite_by": "apalike",
   "current_citInitial": 1,
   "eqLabelWithNumbers": true,
   "eqNumInitial": 1,
   "hotkeys": {
    "equation": "Ctrl-E",
    "itemize": "Ctrl-I"
   },
   "labels_anchors": false,
   "latex_user_defs": false,
   "report_style_numbering": false,
   "user_envs_cfg": false
  },
  "toc": {
   "nav_menu": {},
   "number_sections": true,
   "sideBar": true,
   "skip_h1_title": false,
   "toc_cell": false,
   "toc_position": {},
   "toc_section_display": "block",
   "toc_window_display": false
  }
 },
 "nbformat": 4,
 "nbformat_minor": 2
}
