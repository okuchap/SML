{
 "cells": [
  {
   "cell_type": "markdown",
   "metadata": {},
   "source": [
    "# 宿題2"
   ]
  },
  {
   "cell_type": "code",
   "execution_count": 1,
   "metadata": {
    "ExecuteTime": {
     "end_time": "2018-06-09T04:17:17.834553Z",
     "start_time": "2018-06-09T04:17:17.251327Z"
    }
   },
   "outputs": [],
   "source": [
    "import numpy as np\n",
    "import matplotlib.pyplot as plt\n",
    "import matplotlib.cm as cm\n",
    "from collections import defaultdict"
   ]
  },
  {
   "cell_type": "code",
   "execution_count": 6,
   "metadata": {
    "ExecuteTime": {
     "end_time": "2018-06-09T04:23:39.490436Z",
     "start_time": "2018-06-09T04:23:39.440317Z"
    }
   },
   "outputs": [],
   "source": [
    "data = np.loadtxt('data/digit_test0.csv', delimiter=',')"
   ]
  },
  {
   "cell_type": "code",
   "execution_count": 7,
   "metadata": {
    "ExecuteTime": {
     "end_time": "2018-06-09T04:23:47.428530Z",
     "start_time": "2018-06-09T04:23:47.422304Z"
    }
   },
   "outputs": [
    {
     "data": {
      "text/plain": [
       "(200, 256)"
      ]
     },
     "execution_count": 7,
     "metadata": {},
     "output_type": "execute_result"
    }
   ],
   "source": [
    "data.shape"
   ]
  },
  {
   "cell_type": "code",
   "execution_count": 8,
   "metadata": {
    "ExecuteTime": {
     "end_time": "2018-06-09T04:23:55.296015Z",
     "start_time": "2018-06-09T04:23:55.279601Z"
    },
    "collapsed": true
   },
   "outputs": [
    {
     "data": {
      "text/plain": [
       "array([-1.       , -1.       , -1.       , -0.99995  , -0.99593  ,\n",
       "       -0.92367  , -0.54425  ,  0.024996 , -0.13817  , -0.73438  ,\n",
       "       -0.9755   , -0.99921  , -0.99999  , -1.       , -1.       ,\n",
       "       -1.       , -1.       , -1.       , -1.       , -0.99981  ,\n",
       "       -0.98548  , -0.7715   , -0.07547  ,  0.5572   ,  0.28281  ,\n",
       "       -0.56901  , -0.9498   , -0.99768  , -0.99996  , -1.       ,\n",
       "       -1.       , -1.       , -1.       , -1.       , -0.99999  ,\n",
       "       -0.99929  , -0.96969  , -0.6121   ,  0.29231  ,  0.74831  ,\n",
       "        0.41671  , -0.39006  , -0.87145  , -0.98713  , -0.99947  ,\n",
       "       -0.99999  , -1.       , -1.       , -1.       , -1.       ,\n",
       "       -0.99997  , -0.99715  , -0.93529  , -0.4813   ,  0.41389  ,\n",
       "        0.63221  ,  0.39473  ,  0.023469 , -0.57012  , -0.92015  ,\n",
       "       -0.99502  , -0.99991  , -1.       , -1.       , -1.       ,\n",
       "       -1.       , -0.9999   , -0.99183  , -0.85814  , -0.28223  ,\n",
       "        0.41347  ,  0.19271  , -0.059071 ,  0.20325  , -0.1152   ,\n",
       "       -0.73535  , -0.97315  , -0.999    , -0.99999  , -1.       ,\n",
       "       -1.       , -1.       , -0.9997   , -0.98268  , -0.74633  ,\n",
       "       -0.029866 ,  0.3773   , -0.2261   , -0.52354  ,  0.014293 ,\n",
       "        0.22684  , -0.42382  , -0.89585  , -0.99425  , -0.99994  ,\n",
       "       -1.       , -1.       , -0.99998  , -0.99838  , -0.9572   ,\n",
       "       -0.59346  ,  0.21855  ,  0.31032  , -0.50148  , -0.77324  ,\n",
       "       -0.2228   ,  0.3917   , -0.0429   , -0.75669  , -0.98482  ,\n",
       "       -0.99983  , -1.       , -1.       , -0.99993  , -0.99392  ,\n",
       "       -0.88847  , -0.36416  ,  0.40958  ,  0.20826  , -0.63269  ,\n",
       "       -0.83146  , -0.26846  ,  0.47701  ,  0.17913  , -0.66742  ,\n",
       "       -0.97857  , -0.99975  , -1.       , -1.       , -0.99984  ,\n",
       "       -0.98628  , -0.77775  , -0.082563 ,  0.47419  , -0.0086822,\n",
       "       -0.73906  , -0.85225  , -0.29246  ,  0.51017  ,  0.28532  ,\n",
       "       -0.62081  , -0.97418  , -0.99962  , -1.       , -1.       ,\n",
       "       -0.99971  , -0.97767  , -0.66058  ,  0.19322  ,  0.49192  ,\n",
       "       -0.24092  , -0.83838  , -0.8645   , -0.30349  ,  0.53434  ,\n",
       "        0.35849  , -0.58629  , -0.97002  , -0.99944  , -1.       ,\n",
       "       -1.       , -0.99957  , -0.97237  , -0.5992   ,  0.32978  ,\n",
       "        0.4776   , -0.40106  , -0.90052  , -0.81905  , -0.19048  ,\n",
       "        0.5348   ,  0.2458   , -0.63822  , -0.97539  , -0.99963  ,\n",
       "       -1.       , -1.       , -0.99959  , -0.97307  , -0.60668  ,\n",
       "        0.31293  ,  0.4735   , -0.39257  , -0.8659   , -0.65587  ,\n",
       "        0.095776 ,  0.54952  ,  0.015997 , -0.73827  , -0.98349  ,\n",
       "       -0.9998   , -1.       , -1.       , -0.99972  , -0.97855  ,\n",
       "       -0.67175  ,  0.1666   ,  0.50683  , -0.1308   , -0.58242  ,\n",
       "       -0.234    ,  0.49035  ,  0.54224  , -0.2369   , -0.84017  ,\n",
       "       -0.9906   , -0.99989  , -1.       , -1.       , -0.99985  ,\n",
       "       -0.9868   , -0.78759  , -0.1388   ,  0.44081  ,  0.30421  ,\n",
       "        0.068437 ,  0.41258  ,  0.70896  ,  0.30387  , -0.54129  ,\n",
       "       -0.93795  , -0.99706  , -0.99997  , -1.       , -1.       ,\n",
       "       -0.99995  , -0.99596  , -0.92788  , -0.60423  , -0.014224 ,\n",
       "        0.39596  ,  0.56951  ,  0.71729  ,  0.52102  , -0.17123  ,\n",
       "       -0.79259  , -0.98383  , -0.99958  , -1.       , -1.       ,\n",
       "       -1.       , -1.       , -0.99957  , -0.99008  , -0.91262  ,\n",
       "       -0.65992  , -0.25093  ,  0.13564  ,  0.2389   , -0.10316  ,\n",
       "       -0.66216  , -0.94448  , -0.99692  , -0.99996  , -1.       , -1.       ])"
      ]
     },
     "execution_count": 8,
     "metadata": {},
     "output_type": "execute_result"
    }
   ],
   "source": [
    "data[0]"
   ]
  },
  {
   "cell_type": "code",
   "execution_count": 29,
   "metadata": {
    "ExecuteTime": {
     "end_time": "2018-06-09T05:07:32.279514Z",
     "start_time": "2018-06-09T05:07:32.276047Z"
    }
   },
   "outputs": [],
   "source": [
    "img = data[0].reshape(16,16)"
   ]
  },
  {
   "cell_type": "code",
   "execution_count": 30,
   "metadata": {
    "ExecuteTime": {
     "end_time": "2018-06-09T05:07:53.442705Z",
     "start_time": "2018-06-09T05:07:53.050467Z"
    }
   },
   "outputs": [
    {
     "data": {
      "image/png": "[encoded data removed]",
      "text/plain": [
       "<matplotlib.figure.Figure at 0x10f2094e0>"
      ]
     },
     "metadata": {},
     "output_type": "display_data"
    }
   ],
   "source": [
    "plt.imshow(img, cmap='gray')\n",
    "plt.show()"
   ]
  },
  {
   "cell_type": "code",
   "execution_count": 20,
   "metadata": {
    "ExecuteTime": {
     "end_time": "2018-06-09T04:26:52.909076Z",
     "start_time": "2018-06-09T04:26:52.906410Z"
    }
   },
   "outputs": [],
   "source": [
    "digit = np.array([[1]] * 200)"
   ]
  },
  {
   "cell_type": "code",
   "execution_count": 21,
   "metadata": {
    "ExecuteTime": {
     "end_time": "2018-06-09T04:26:53.297256Z",
     "start_time": "2018-06-09T04:26:53.292928Z"
    }
   },
   "outputs": [
    {
     "data": {
      "text/plain": [
       "(200, 1)"
      ]
     },
     "execution_count": 21,
     "metadata": {},
     "output_type": "execute_result"
    }
   ],
   "source": [
    "digit.shape"
   ]
  },
  {
   "cell_type": "code",
   "execution_count": 23,
   "metadata": {
    "ExecuteTime": {
     "end_time": "2018-06-09T04:28:18.630737Z",
     "start_time": "2018-06-09T04:28:18.622019Z"
    }
   },
   "outputs": [
    {
     "ename": "TypeError",
     "evalue": "data type not understood",
     "output_type": "error",
     "traceback": [
      "\u001b[0;31m---------------------------------------------------------------------------\u001b[0m",
      "\u001b[0;31mTypeError\u001b[0m                                 Traceback (most recent call last)",
      "\u001b[0;32m<ipython-input-23-3987f4065d37>\u001b[0m in \u001b[0;36m<module>\u001b[0;34m()\u001b[0m\n\u001b[0;32m----> 1\u001b[0;31m \u001b[0mnp\u001b[0m\u001b[0;34m.\u001b[0m\u001b[0marray\u001b[0m\u001b[0;34m(\u001b[0m\u001b[0mdata\u001b[0m\u001b[0;34m,\u001b[0m \u001b[0mdigit\u001b[0m\u001b[0;34m)\u001b[0m\u001b[0;34m\u001b[0m\u001b[0m\n\u001b[0m",
      "\u001b[0;31mTypeError\u001b[0m: data type not understood"
     ]
    }
   ],
   "source": [
    "np.array(data, digit)"
   ]
  },
  {
   "cell_type": "code",
   "execution_count": 27,
   "metadata": {
    "ExecuteTime": {
     "end_time": "2018-06-09T04:30:09.634186Z",
     "start_time": "2018-06-09T04:30:09.625252Z"
    }
   },
   "outputs": [
    {
     "ename": "ValueError",
     "evalue": "could not broadcast input array from shape (200,256) into shape (200)",
     "output_type": "error",
     "traceback": [
      "\u001b[0;31m---------------------------------------------------------------------------\u001b[0m",
      "\u001b[0;31mValueError\u001b[0m                                Traceback (most recent call last)",
      "\u001b[0;32m<ipython-input-27-ce47544d026a>\u001b[0m in \u001b[0;36m<module>\u001b[0;34m()\u001b[0m\n\u001b[0;32m----> 1\u001b[0;31m \u001b[0mnp\u001b[0m\u001b[0;34m.\u001b[0m\u001b[0marray\u001b[0m\u001b[0;34m(\u001b[0m\u001b[0;34m[\u001b[0m\u001b[0mdata\u001b[0m\u001b[0;34m,\u001b[0m \u001b[0;34m[\u001b[0m\u001b[0;34m[\u001b[0m\u001b[0;36m0\u001b[0m\u001b[0;34m]\u001b[0m\u001b[0;34m]\u001b[0m\u001b[0;34m*\u001b[0m\u001b[0;36m200\u001b[0m\u001b[0;34m]\u001b[0m\u001b[0;34m)\u001b[0m\u001b[0;34m\u001b[0m\u001b[0m\n\u001b[0m",
      "\u001b[0;31mValueError\u001b[0m: could not broadcast input array from shape (200,256) into shape (200)"
     ]
    }
   ],
   "source": [
    "np.array([data, [[0]]*200])"
   ]
  },
  {
   "cell_type": "code",
   "execution_count": 35,
   "metadata": {
    "ExecuteTime": {
     "end_time": "2018-06-09T05:32:18.878478Z",
     "start_time": "2018-06-09T05:32:18.875917Z"
    }
   },
   "outputs": [],
   "source": [
    "test = np.array([1,2,2,3,2,4,5,4])"
   ]
  },
  {
   "cell_type": "code",
   "execution_count": 37,
   "metadata": {
    "ExecuteTime": {
     "end_time": "2018-06-09T05:32:49.416184Z",
     "start_time": "2018-06-09T05:32:49.410937Z"
    }
   },
   "outputs": [],
   "source": [
    "from collections import Counter\n",
    "c = Counter(test)"
   ]
  },
  {
   "cell_type": "code",
   "execution_count": 39,
   "metadata": {
    "ExecuteTime": {
     "end_time": "2018-06-09T05:33:13.790460Z",
     "start_time": "2018-06-09T05:33:13.786356Z"
    }
   },
   "outputs": [
    {
     "data": {
      "text/plain": [
       "2"
      ]
     },
     "execution_count": 39,
     "metadata": {},
     "output_type": "execute_result"
    }
   ],
   "source": [
    "c.most_common(1)[0][0]"
   ]
  },
  {
   "cell_type": "markdown",
   "metadata": {},
   "source": [
    "# kNN"
   ]
  },
  {
   "cell_type": "markdown",
   "metadata": {},
   "source": [
    "http://blog.amedama.jp/entry/2017/03/18/140238"
   ]
  },
  {
   "cell_type": "code",
   "execution_count": 1,
   "metadata": {
    "ExecuteTime": {
     "end_time": "2018-06-09T06:32:06.803178Z",
     "start_time": "2018-06-09T06:32:06.700666Z"
    }
   },
   "outputs": [],
   "source": [
    "import numpy as np\n",
    "from collections import Counter\n",
    "\n",
    "class kNN(object):\n",
    "    def __init__(self, k=1):\n",
    "        self._train_data = None\n",
    "        self._target_data = None\n",
    "        self._k = k\n",
    "\n",
    "\n",
    "    def fit(self, train_data, target_data):\n",
    "        self._train_data = train_data\n",
    "        self._target_data = target_data\n",
    "\n",
    "\n",
    "    def predict(self, x):\n",
    "        distances = np.array([np.linalg.norm(p - x) for p in self._train_data])\n",
    "        nearest_indices = distances.argsort()[:self._k]\n",
    "        nearest_labels = self._target_data[nearest_indices]\n",
    "        c = Counter(nearest_labels)\n",
    "        return c.most_common(1)[0][0]"
   ]
  },
  {
   "cell_type": "code",
   "execution_count": 2,
   "metadata": {
    "ExecuteTime": {
     "end_time": "2018-06-09T06:32:08.144993Z",
     "start_time": "2018-06-09T06:32:08.115670Z"
    }
   },
   "outputs": [],
   "source": [
    "def load_train_data():\n",
    "    for i in range(10):\n",
    "        if i==0:\n",
    "            train_feature = np.loadtxt('data/digit_train{}.csv'.format(i), delimiter=',')\n",
    "            train_label = np.array([i]*train_feature.shape[0])\n",
    "        else:\n",
    "            temp_feature = np.loadtxt('data/digit_train{}.csv'.format(i), delimiter=',')\n",
    "            train_feature = np.vstack([train_feature, temp_feature])\n",
    "            temp_label = np.array([i]*temp_feature.shape[0])\n",
    "            train_label = np.hstack([train_label, temp_label])\n",
    "            \n",
    "    return train_feature, train_label\n",
    "\n",
    "\n",
    "def load_test_data():\n",
    "    for i in range(10):\n",
    "        if i==0:\n",
    "            test_feature = np.loadtxt('data/digit_test{}.csv'.format(i), delimiter=',')\n",
    "            test_label = np.array([i]*test_feature.shape[0])\n",
    "        else:\n",
    "            temp_feature = np.loadtxt('data/digit_test{}.csv'.format(i), delimiter=',')\n",
    "            test_feature = np.vstack([test_feature, temp_feature])\n",
    "            temp_label = np.array([i]*temp_feature.shape[0])\n",
    "            test_label = np.hstack([test_label, temp_label])\n",
    "            \n",
    "    return test_feature, test_label"
   ]
  },
  {
   "cell_type": "code",
   "execution_count": 3,
   "metadata": {
    "ExecuteTime": {
     "end_time": "2018-06-09T06:32:14.118975Z",
     "start_time": "2018-06-09T06:32:13.146468Z"
    }
   },
   "outputs": [],
   "source": [
    "train_feature, train_label = load_train_data()"
   ]
  },
  {
   "cell_type": "code",
   "execution_count": 4,
   "metadata": {
    "ExecuteTime": {
     "end_time": "2018-06-09T06:12:04.310662Z",
     "start_time": "2018-06-09T06:12:04.266252Z"
    }
   },
   "outputs": [
    {
     "data": {
      "text/plain": [
       "(5000, 256)"
      ]
     },
     "execution_count": 4,
     "metadata": {},
     "output_type": "execute_result"
    }
   ],
   "source": [
    "train_feature.shape"
   ]
  },
  {
   "cell_type": "code",
   "execution_count": 5,
   "metadata": {
    "ExecuteTime": {
     "end_time": "2018-06-09T06:12:06.426340Z",
     "start_time": "2018-06-09T06:12:06.420471Z"
    }
   },
   "outputs": [
    {
     "data": {
      "text/plain": [
       "(5000,)"
      ]
     },
     "execution_count": 5,
     "metadata": {},
     "output_type": "execute_result"
    }
   ],
   "source": [
    "train_label.shape"
   ]
  },
  {
   "cell_type": "code",
   "execution_count": 6,
   "metadata": {
    "ExecuteTime": {
     "end_time": "2018-06-09T06:12:06.999469Z",
     "start_time": "2018-06-09T06:12:06.995204Z"
    }
   },
   "outputs": [
    {
     "data": {
      "text/plain": [
       "3"
      ]
     },
     "execution_count": 6,
     "metadata": {},
     "output_type": "execute_result"
    }
   ],
   "source": [
    "train_label[1900]"
   ]
  },
  {
   "cell_type": "code",
   "execution_count": 4,
   "metadata": {
    "ExecuteTime": {
     "end_time": "2018-06-09T06:32:17.086405Z",
     "start_time": "2018-06-09T06:32:16.684596Z"
    }
   },
   "outputs": [],
   "source": [
    "test_feature, test_label = load_test_data()"
   ]
  },
  {
   "cell_type": "code",
   "execution_count": 15,
   "metadata": {
    "ExecuteTime": {
     "end_time": "2018-06-09T06:14:18.556666Z",
     "start_time": "2018-06-09T06:14:18.551950Z"
    }
   },
   "outputs": [
    {
     "data": {
      "text/plain": [
       "(2000,)"
      ]
     },
     "execution_count": 15,
     "metadata": {},
     "output_type": "execute_result"
    }
   ],
   "source": [
    "test_label.shape"
   ]
  },
  {
   "cell_type": "code",
   "execution_count": 8,
   "metadata": {
    "ExecuteTime": {
     "end_time": "2018-06-09T06:12:09.032713Z",
     "start_time": "2018-06-09T06:12:09.030258Z"
    }
   },
   "outputs": [],
   "source": [
    "model = kNN()"
   ]
  },
  {
   "cell_type": "code",
   "execution_count": 9,
   "metadata": {
    "ExecuteTime": {
     "end_time": "2018-06-09T06:12:09.735471Z",
     "start_time": "2018-06-09T06:12:09.733283Z"
    }
   },
   "outputs": [],
   "source": [
    "model.fit(train_feature, train_label)"
   ]
  },
  {
   "cell_type": "code",
   "execution_count": 10,
   "metadata": {
    "ExecuteTime": {
     "end_time": "2018-06-09T06:12:10.507136Z",
     "start_time": "2018-06-09T06:12:10.502959Z"
    }
   },
   "outputs": [
    {
     "data": {
      "text/plain": [
       "(5000, 256)"
      ]
     },
     "execution_count": 10,
     "metadata": {},
     "output_type": "execute_result"
    }
   ],
   "source": [
    "model._train_data.shape"
   ]
  },
  {
   "cell_type": "code",
   "execution_count": 11,
   "metadata": {
    "ExecuteTime": {
     "end_time": "2018-06-09T06:12:57.135067Z",
     "start_time": "2018-06-09T06:12:11.837827Z"
    },
    "collapsed": true
   },
   "outputs": [
    {
     "ename": "ValueError",
     "evalue": "Found input variables with inconsistent numbers of samples: [6800, 2000]",
     "output_type": "error",
     "traceback": [
      "\u001b[0;31m---------------------------------------------------------------------------\u001b[0m",
      "\u001b[0;31mValueError\u001b[0m                                Traceback (most recent call last)",
      "\u001b[0;32m<ipython-input-11-e4c98d52351c>\u001b[0m in \u001b[0;36m<module>\u001b[0;34m()\u001b[0m\n\u001b[1;32m      4\u001b[0m     \u001b[0mpredicted_label\u001b[0m \u001b[0;34m=\u001b[0m \u001b[0mmodel\u001b[0m\u001b[0;34m.\u001b[0m\u001b[0mpredict\u001b[0m\u001b[0;34m(\u001b[0m\u001b[0mfeature\u001b[0m\u001b[0;34m)\u001b[0m\u001b[0;34m\u001b[0m\u001b[0m\n\u001b[1;32m      5\u001b[0m     \u001b[0mpredicted_labels\u001b[0m\u001b[0;34m.\u001b[0m\u001b[0mappend\u001b[0m\u001b[0;34m(\u001b[0m\u001b[0mpredicted_label\u001b[0m\u001b[0;34m)\u001b[0m\u001b[0;34m\u001b[0m\u001b[0m\n\u001b[0;32m----> 6\u001b[0;31m \u001b[0maccuracy_score\u001b[0m\u001b[0;34m(\u001b[0m\u001b[0mtest_label\u001b[0m\u001b[0;34m,\u001b[0m \u001b[0mpredicted_labels\u001b[0m\u001b[0;34m)\u001b[0m\u001b[0;34m\u001b[0m\u001b[0m\n\u001b[0m",
      "\u001b[0;32m~/.pyenv/versions/anaconda3-5.0.1/lib/python3.6/site-packages/sklearn/metrics/classification.py\u001b[0m in \u001b[0;36maccuracy_score\u001b[0;34m(y_true, y_pred, normalize, sample_weight)\u001b[0m\n\u001b[1;32m    174\u001b[0m \u001b[0;34m\u001b[0m\u001b[0m\n\u001b[1;32m    175\u001b[0m     \u001b[0;31m# Compute accuracy for each possible representation\u001b[0m\u001b[0;34m\u001b[0m\u001b[0;34m\u001b[0m\u001b[0m\n\u001b[0;32m--> 176\u001b[0;31m     \u001b[0my_type\u001b[0m\u001b[0;34m,\u001b[0m \u001b[0my_true\u001b[0m\u001b[0;34m,\u001b[0m \u001b[0my_pred\u001b[0m \u001b[0;34m=\u001b[0m \u001b[0m_check_targets\u001b[0m\u001b[0;34m(\u001b[0m\u001b[0my_true\u001b[0m\u001b[0;34m,\u001b[0m \u001b[0my_pred\u001b[0m\u001b[0;34m)\u001b[0m\u001b[0;34m\u001b[0m\u001b[0m\n\u001b[0m\u001b[1;32m    177\u001b[0m     \u001b[0;32mif\u001b[0m \u001b[0my_type\u001b[0m\u001b[0;34m.\u001b[0m\u001b[0mstartswith\u001b[0m\u001b[0;34m(\u001b[0m\u001b[0;34m'multilabel'\u001b[0m\u001b[0;34m)\u001b[0m\u001b[0;34m:\u001b[0m\u001b[0;34m\u001b[0m\u001b[0m\n\u001b[1;32m    178\u001b[0m         \u001b[0mdiffering_labels\u001b[0m \u001b[0;34m=\u001b[0m \u001b[0mcount_nonzero\u001b[0m\u001b[0;34m(\u001b[0m\u001b[0my_true\u001b[0m \u001b[0;34m-\u001b[0m \u001b[0my_pred\u001b[0m\u001b[0;34m,\u001b[0m \u001b[0maxis\u001b[0m\u001b[0;34m=\u001b[0m\u001b[0;36m1\u001b[0m\u001b[0;34m)\u001b[0m\u001b[0;34m\u001b[0m\u001b[0m\n",
      "\u001b[0;32m~/.pyenv/versions/anaconda3-5.0.1/lib/python3.6/site-packages/sklearn/metrics/classification.py\u001b[0m in \u001b[0;36m_check_targets\u001b[0;34m(y_true, y_pred)\u001b[0m\n\u001b[1;32m     69\u001b[0m     \u001b[0my_pred\u001b[0m \u001b[0;34m:\u001b[0m \u001b[0marray\u001b[0m \u001b[0;32mor\u001b[0m \u001b[0mindicator\u001b[0m \u001b[0mmatrix\u001b[0m\u001b[0;34m\u001b[0m\u001b[0m\n\u001b[1;32m     70\u001b[0m     \"\"\"\n\u001b[0;32m---> 71\u001b[0;31m     \u001b[0mcheck_consistent_length\u001b[0m\u001b[0;34m(\u001b[0m\u001b[0my_true\u001b[0m\u001b[0;34m,\u001b[0m \u001b[0my_pred\u001b[0m\u001b[0;34m)\u001b[0m\u001b[0;34m\u001b[0m\u001b[0m\n\u001b[0m\u001b[1;32m     72\u001b[0m     \u001b[0mtype_true\u001b[0m \u001b[0;34m=\u001b[0m \u001b[0mtype_of_target\u001b[0m\u001b[0;34m(\u001b[0m\u001b[0my_true\u001b[0m\u001b[0;34m)\u001b[0m\u001b[0;34m\u001b[0m\u001b[0m\n\u001b[1;32m     73\u001b[0m     \u001b[0mtype_pred\u001b[0m \u001b[0;34m=\u001b[0m \u001b[0mtype_of_target\u001b[0m\u001b[0;34m(\u001b[0m\u001b[0my_pred\u001b[0m\u001b[0;34m)\u001b[0m\u001b[0;34m\u001b[0m\u001b[0m\n",
      "\u001b[0;32m~/.pyenv/versions/anaconda3-5.0.1/lib/python3.6/site-packages/sklearn/utils/validation.py\u001b[0m in \u001b[0;36mcheck_consistent_length\u001b[0;34m(*arrays)\u001b[0m\n\u001b[1;32m    171\u001b[0m     \u001b[0;32mif\u001b[0m \u001b[0mlen\u001b[0m\u001b[0;34m(\u001b[0m\u001b[0muniques\u001b[0m\u001b[0;34m)\u001b[0m \u001b[0;34m>\u001b[0m \u001b[0;36m1\u001b[0m\u001b[0;34m:\u001b[0m\u001b[0;34m\u001b[0m\u001b[0m\n\u001b[1;32m    172\u001b[0m         raise ValueError(\"Found input variables with inconsistent numbers of\"\n\u001b[0;32m--> 173\u001b[0;31m                          \" samples: %r\" % [int(l) for l in lengths])\n\u001b[0m\u001b[1;32m    174\u001b[0m \u001b[0;34m\u001b[0m\u001b[0m\n\u001b[1;32m    175\u001b[0m \u001b[0;34m\u001b[0m\u001b[0m\n",
      "\u001b[0;31mValueError\u001b[0m: Found input variables with inconsistent numbers of samples: [6800, 2000]"
     ]
    }
   ],
   "source": [
    "from sklearn.metrics import accuracy_score\n",
    "predicted_labels = []\n",
    "for feature in test_feature:\n",
    "    predicted_label = model.predict(feature)\n",
    "    predicted_labels.append(predicted_label)\n",
    "accuracy_score(test_label, predicted_labels)"
   ]
  },
  {
   "cell_type": "code",
   "execution_count": 16,
   "metadata": {
    "ExecuteTime": {
     "end_time": "2018-06-09T06:14:45.037174Z",
     "start_time": "2018-06-09T06:14:45.033679Z"
    }
   },
   "outputs": [
    {
     "data": {
      "text/plain": [
       "2000"
      ]
     },
     "execution_count": 16,
     "metadata": {},
     "output_type": "execute_result"
    }
   ],
   "source": [
    "len(predicted_labels)"
   ]
  },
  {
   "cell_type": "code",
   "execution_count": 17,
   "metadata": {
    "ExecuteTime": {
     "end_time": "2018-06-09T06:14:55.825815Z",
     "start_time": "2018-06-09T06:14:55.815356Z"
    }
   },
   "outputs": [
    {
     "data": {
      "text/plain": [
       "0.96599999999999997"
      ]
     },
     "execution_count": 17,
     "metadata": {},
     "output_type": "execute_result"
    }
   ],
   "source": [
    "accuracy_score(test_label, predicted_labels)"
   ]
  },
  {
   "cell_type": "code",
   "execution_count": 5,
   "metadata": {
    "ExecuteTime": {
     "end_time": "2018-06-09T06:32:27.720183Z",
     "start_time": "2018-06-09T06:32:27.714578Z"
    }
   },
   "outputs": [],
   "source": [
    "def calc_accuracy(train_feature, train_label, test_feature, test_label):\n",
    "    model = kNN()\n",
    "    model.fit(train_feature, train_label)\n",
    "    predicted_labels = []\n",
    "    for feature in test_feature:\n",
    "        predicted_label = model.predict(feature)\n",
    "        predicted_labels.append(predicted_label)\n",
    "    return accuracy_score(test_label, predicted_labels)"
   ]
  },
  {
   "cell_type": "code",
   "execution_count": 6,
   "metadata": {
    "ExecuteTime": {
     "end_time": "2018-06-09T06:32:35.651271Z",
     "start_time": "2018-06-09T06:32:35.521377Z"
    }
   },
   "outputs": [
    {
     "ename": "TypeError",
     "evalue": "'NoneType' object is not iterable",
     "output_type": "error",
     "traceback": [
      "\u001b[0;31m---------------------------------------------------------------------------\u001b[0m",
      "\u001b[0;31mTypeError\u001b[0m                                 Traceback (most recent call last)",
      "\u001b[0;32m<ipython-input-6-71c406084f24>\u001b[0m in \u001b[0;36m<module>\u001b[0;34m()\u001b[0m\n\u001b[0;32m----> 1\u001b[0;31m \u001b[0mcalc_accuracy\u001b[0m\u001b[0;34m(\u001b[0m\u001b[0mtrain_feature\u001b[0m\u001b[0;34m,\u001b[0m \u001b[0mtrain_label\u001b[0m\u001b[0;34m,\u001b[0m \u001b[0mtest_feature\u001b[0m\u001b[0;34m,\u001b[0m \u001b[0mtest_label\u001b[0m\u001b[0;34m)\u001b[0m\u001b[0;34m\u001b[0m\u001b[0m\n\u001b[0m",
      "\u001b[0;32m<ipython-input-5-420b1afadc36>\u001b[0m in \u001b[0;36mcalc_accuracy\u001b[0;34m(train_feature, train_label, test_feature, test_label)\u001b[0m\n\u001b[1;32m      3\u001b[0m     \u001b[0mpredicted_labels\u001b[0m \u001b[0;34m=\u001b[0m \u001b[0;34m[\u001b[0m\u001b[0;34m]\u001b[0m\u001b[0;34m\u001b[0m\u001b[0m\n\u001b[1;32m      4\u001b[0m     \u001b[0;32mfor\u001b[0m \u001b[0mfeature\u001b[0m \u001b[0;32min\u001b[0m \u001b[0mtest_feature\u001b[0m\u001b[0;34m:\u001b[0m\u001b[0;34m\u001b[0m\u001b[0m\n\u001b[0;32m----> 5\u001b[0;31m         \u001b[0mpredicted_label\u001b[0m \u001b[0;34m=\u001b[0m \u001b[0mmodel\u001b[0m\u001b[0;34m.\u001b[0m\u001b[0mpredict\u001b[0m\u001b[0;34m(\u001b[0m\u001b[0mfeature\u001b[0m\u001b[0;34m)\u001b[0m\u001b[0;34m\u001b[0m\u001b[0m\n\u001b[0m\u001b[1;32m      6\u001b[0m         \u001b[0mpredicted_labels\u001b[0m\u001b[0;34m.\u001b[0m\u001b[0mappend\u001b[0m\u001b[0;34m(\u001b[0m\u001b[0mpredicted_label\u001b[0m\u001b[0;34m)\u001b[0m\u001b[0;34m\u001b[0m\u001b[0m\n\u001b[1;32m      7\u001b[0m     \u001b[0;32mreturn\u001b[0m \u001b[0maccuracy_score\u001b[0m\u001b[0;34m(\u001b[0m\u001b[0mtest_label\u001b[0m\u001b[0;34m,\u001b[0m \u001b[0mpredicted_labels\u001b[0m\u001b[0;34m)\u001b[0m\u001b[0;34m\u001b[0m\u001b[0m\n",
      "\u001b[0;32m<ipython-input-1-e226b51c5973>\u001b[0m in \u001b[0;36mpredict\u001b[0;34m(self, x)\u001b[0m\n\u001b[1;32m     15\u001b[0m \u001b[0;34m\u001b[0m\u001b[0m\n\u001b[1;32m     16\u001b[0m     \u001b[0;32mdef\u001b[0m \u001b[0mpredict\u001b[0m\u001b[0;34m(\u001b[0m\u001b[0mself\u001b[0m\u001b[0;34m,\u001b[0m \u001b[0mx\u001b[0m\u001b[0;34m)\u001b[0m\u001b[0;34m:\u001b[0m\u001b[0;34m\u001b[0m\u001b[0m\n\u001b[0;32m---> 17\u001b[0;31m         \u001b[0mdistances\u001b[0m \u001b[0;34m=\u001b[0m \u001b[0mnp\u001b[0m\u001b[0;34m.\u001b[0m\u001b[0marray\u001b[0m\u001b[0;34m(\u001b[0m\u001b[0;34m[\u001b[0m\u001b[0mnp\u001b[0m\u001b[0;34m.\u001b[0m\u001b[0mlinalg\u001b[0m\u001b[0;34m.\u001b[0m\u001b[0mnorm\u001b[0m\u001b[0;34m(\u001b[0m\u001b[0mp\u001b[0m \u001b[0;34m-\u001b[0m \u001b[0mx\u001b[0m\u001b[0;34m)\u001b[0m \u001b[0;32mfor\u001b[0m \u001b[0mp\u001b[0m \u001b[0;32min\u001b[0m \u001b[0mself\u001b[0m\u001b[0;34m.\u001b[0m\u001b[0m_train_data\u001b[0m\u001b[0;34m]\u001b[0m\u001b[0;34m)\u001b[0m\u001b[0;34m\u001b[0m\u001b[0m\n\u001b[0m\u001b[1;32m     18\u001b[0m         \u001b[0mnearest_indices\u001b[0m \u001b[0;34m=\u001b[0m \u001b[0mdistances\u001b[0m\u001b[0;34m.\u001b[0m\u001b[0margsort\u001b[0m\u001b[0;34m(\u001b[0m\u001b[0;34m)\u001b[0m\u001b[0;34m[\u001b[0m\u001b[0;34m:\u001b[0m\u001b[0mself\u001b[0m\u001b[0;34m.\u001b[0m\u001b[0m_k\u001b[0m\u001b[0;34m]\u001b[0m\u001b[0;34m\u001b[0m\u001b[0m\n\u001b[1;32m     19\u001b[0m         \u001b[0mnearest_labels\u001b[0m \u001b[0;34m=\u001b[0m \u001b[0mself\u001b[0m\u001b[0;34m.\u001b[0m\u001b[0m_target_data\u001b[0m\u001b[0;34m[\u001b[0m\u001b[0mnearest_indices\u001b[0m\u001b[0;34m]\u001b[0m\u001b[0;34m\u001b[0m\u001b[0m\n",
      "\u001b[0;31mTypeError\u001b[0m: 'NoneType' object is not iterable"
     ]
    }
   ],
   "source": [
    "calc_accuracy(train_feature, train_label, test_feature, test_label)"
   ]
  },
  {
   "cell_type": "markdown",
   "metadata": {},
   "source": [
    "## 高速化"
   ]
  },
  {
   "cell_type": "code",
   "execution_count": 3,
   "metadata": {
    "ExecuteTime": {
     "end_time": "2018-06-09T06:22:20.226833Z",
     "start_time": "2018-06-09T06:22:20.164631Z"
    }
   },
   "outputs": [],
   "source": [
    "import numpy as np\n",
    "from collections import Counter"
   ]
  },
  {
   "cell_type": "code",
   "execution_count": 4,
   "metadata": {
    "ExecuteTime": {
     "end_time": "2018-06-09T06:22:21.029254Z",
     "start_time": "2018-06-09T06:22:20.999189Z"
    }
   },
   "outputs": [],
   "source": [
    "def load_train_data():\n",
    "    for i in range(10):\n",
    "        if i==0:\n",
    "            train_feature = np.loadtxt('data/digit_train{}.csv'.format(i), delimiter=',')\n",
    "            train_label = np.array([i]*train_feature.shape[0])\n",
    "        else:\n",
    "            temp_feature = np.loadtxt('data/digit_train{}.csv'.format(i), delimiter=',')\n",
    "            train_feature = np.vstack([train_feature, temp_feature])\n",
    "            temp_label = np.array([i]*temp_feature.shape[0])\n",
    "            train_label = np.hstack([train_label, temp_label])\n",
    "            \n",
    "    return train_feature, train_label\n",
    "\n",
    "\n",
    "def load_test_data():\n",
    "    for i in range(10):\n",
    "        if i==0:\n",
    "            test_feature = np.loadtxt('data/digit_test{}.csv'.format(i), delimiter=',')\n",
    "            test_label = np.array([i]*test_feature.shape[0])\n",
    "        else:\n",
    "            temp_feature = np.loadtxt('data/digit_test{}.csv'.format(i), delimiter=',')\n",
    "            test_feature = np.vstack([test_feature, temp_feature])\n",
    "            temp_label = np.array([i]*temp_feature.shape[0])\n",
    "            test_label = np.hstack([test_label, temp_label])\n",
    "            \n",
    "    return test_feature, test_label"
   ]
  },
  {
   "cell_type": "code",
   "execution_count": 5,
   "metadata": {
    "ExecuteTime": {
     "end_time": "2018-06-09T06:22:23.659774Z",
     "start_time": "2018-06-09T06:22:22.197908Z"
    }
   },
   "outputs": [],
   "source": [
    "train_feature, train_label = load_train_data()\n",
    "test_feature, test_label = load_test_data()"
   ]
  },
  {
   "cell_type": "code",
   "execution_count": 21,
   "metadata": {
    "ExecuteTime": {
     "end_time": "2018-06-09T06:20:15.435520Z",
     "start_time": "2018-06-09T06:20:09.186243Z"
    }
   },
   "outputs": [],
   "source": [
    "import numpy as np\n",
    "from collections import Counter\n",
    "\n",
    "class kNN(object):\n",
    "    def __init__(self, k=1):\n",
    "        self._train_data = None\n",
    "        self._target_data = None\n",
    "        self._k = k\n",
    "\n",
    "\n",
    "    def fit(self, train_data, target_data):\n",
    "        self._train_data = train_data\n",
    "        self._target_data = target_data\n",
    "\n",
    "\n",
    "    def predict(self, x):\n",
    "        distances = np.array([np.linalg.norm(p - x) for p in self._train_data])\n",
    "        nearest_indices = distances.argsort()[:self._k]\n",
    "        nearest_labels = self._target_data[nearest_indices]\n",
    "        c = Counter(nearest_labels)\n",
    "        return c.most_common(1)[0][0]"
   ]
  },
  {
   "cell_type": "code",
   "execution_count": 22,
   "metadata": {
    "ExecuteTime": {
     "end_time": "2018-06-09T06:20:17.675862Z",
     "start_time": "2018-06-09T06:20:17.672381Z"
    }
   },
   "outputs": [
    {
     "data": {
      "text/plain": [
       "[8]"
      ]
     },
     "execution_count": 22,
     "metadata": {},
     "output_type": "execute_result"
    }
   ],
   "source": [
    "predicted_labels"
   ]
  },
  {
   "cell_type": "code",
   "execution_count": 23,
   "metadata": {
    "ExecuteTime": {
     "end_time": "2018-06-09T06:20:40.828584Z",
     "start_time": "2018-06-09T06:20:40.824752Z"
    }
   },
   "outputs": [
    {
     "data": {
      "text/plain": [
       "(2000, 256)"
      ]
     },
     "execution_count": 23,
     "metadata": {},
     "output_type": "execute_result"
    }
   ],
   "source": [
    "test_feature.shape"
   ]
  },
  {
   "cell_type": "code",
   "execution_count": 24,
   "metadata": {
    "ExecuteTime": {
     "end_time": "2018-06-09T06:20:54.439684Z",
     "start_time": "2018-06-09T06:20:54.435879Z"
    }
   },
   "outputs": [
    {
     "data": {
      "text/plain": [
       "8"
      ]
     },
     "execution_count": 24,
     "metadata": {},
     "output_type": "execute_result"
    }
   ],
   "source": [
    "predicted_label"
   ]
  },
  {
   "cell_type": "markdown",
   "metadata": {},
   "source": [
    "## ここまでのまとめ"
   ]
  },
  {
   "cell_type": "code",
   "execution_count": 5,
   "metadata": {
    "ExecuteTime": {
     "end_time": "2018-06-09T07:15:32.995435Z",
     "start_time": "2018-06-09T07:15:32.876072Z"
    }
   },
   "outputs": [],
   "source": [
    "import numpy as np\n",
    "from collections import Counter\n",
    "from sklearn.metrics import accuracy_score\n",
    "\n",
    "class kNN(object):\n",
    "    def __init__(self, k=1):\n",
    "        self._train_data = None\n",
    "        self._target_data = None\n",
    "        self._k = k\n",
    "\n",
    "\n",
    "    def fit(self, train_data, target_data):\n",
    "        self._train_data = train_data\n",
    "        self._target_data = target_data\n",
    "\n",
    "\n",
    "    def predict(self, x):\n",
    "        distances = np.array([np.linalg.norm(p - x) for p in self._train_data])\n",
    "        nearest_indices = distances.argsort()[:self._k]\n",
    "        nearest_labels = self._target_data[nearest_indices]\n",
    "        c = Counter(nearest_labels)\n",
    "        return c.most_common(1)[0][0]\n",
    "\n",
    "\n",
    "def load_train_data():\n",
    "    for i in range(10):\n",
    "        if i==0:\n",
    "            train_feature = np.loadtxt('data/digit_train{}.csv'.format(i), delimiter=',')\n",
    "            train_label = np.array([i]*train_feature.shape[0])\n",
    "        else:\n",
    "            temp_feature = np.loadtxt('data/digit_train{}.csv'.format(i), delimiter=',')\n",
    "            train_feature = np.vstack([train_feature, temp_feature])\n",
    "            temp_label = np.array([i]*temp_feature.shape[0])\n",
    "            train_label = np.hstack([train_label, temp_label])\n",
    "            \n",
    "    return train_feature, train_label\n",
    "\n",
    "\n",
    "def load_test_data():\n",
    "    for i in range(10):\n",
    "        if i==0:\n",
    "            test_feature = np.loadtxt('data/digit_test{}.csv'.format(i), delimiter=',')\n",
    "            test_label = np.array([i]*test_feature.shape[0])\n",
    "        else:\n",
    "            temp_feature = np.loadtxt('data/digit_test{}.csv'.format(i), delimiter=',')\n",
    "            test_feature = np.vstack([test_feature, temp_feature])\n",
    "            temp_label = np.array([i]*temp_feature.shape[0])\n",
    "            test_label = np.hstack([test_label, temp_label])\n",
    "            \n",
    "    return test_feature, test_label\n",
    "\n",
    "\n",
    "def calc_accuracy(train_feature, train_label, test_feature, test_label, k=1):\n",
    "    model = kNN(k)\n",
    "    model.fit(train_feature, train_label)\n",
    "    predicted_labels = []\n",
    "    for feature in test_feature:\n",
    "        predicted_label = model.predict(feature)\n",
    "        predicted_labels.append(predicted_label)\n",
    "    return accuracy_score(test_label, predicted_labels)"
   ]
  },
  {
   "cell_type": "code",
   "execution_count": 2,
   "metadata": {
    "ExecuteTime": {
     "end_time": "2018-06-09T07:12:23.407456Z",
     "start_time": "2018-06-09T07:12:22.071458Z"
    }
   },
   "outputs": [],
   "source": [
    "train_feature, train_label = load_train_data()\n",
    "test_feature, test_label = load_test_data()"
   ]
  },
  {
   "cell_type": "code",
   "execution_count": 3,
   "metadata": {
    "ExecuteTime": {
     "end_time": "2018-06-09T07:13:16.464548Z",
     "start_time": "2018-06-09T07:12:33.836000Z"
    }
   },
   "outputs": [
    {
     "data": {
      "text/plain": [
       "0.96599999999999997"
      ]
     },
     "execution_count": 3,
     "metadata": {},
     "output_type": "execute_result"
    }
   ],
   "source": [
    "calc_accuracy(train_feature, train_label, test_feature, test_label, k=1)"
   ]
  },
  {
   "cell_type": "code",
   "execution_count": 6,
   "metadata": {
    "ExecuteTime": {
     "end_time": "2018-06-09T07:16:18.882809Z",
     "start_time": "2018-06-09T07:15:37.066051Z"
    }
   },
   "outputs": [
    {
     "data": {
      "text/plain": [
       "0.96350000000000002"
      ]
     },
     "execution_count": 6,
     "metadata": {},
     "output_type": "execute_result"
    }
   ],
   "source": [
    "calc_accuracy(train_feature, train_label, test_feature, test_label, k=5)"
   ]
  },
  {
   "cell_type": "markdown",
   "metadata": {},
   "source": [
    "# 交差検証"
   ]
  },
  {
   "cell_type": "code",
   "execution_count": 7,
   "metadata": {
    "ExecuteTime": {
     "end_time": "2018-06-09T07:17:10.878259Z",
     "start_time": "2018-06-09T07:17:10.875622Z"
    }
   },
   "outputs": [],
   "source": [
    "n_split = 5"
   ]
  },
  {
   "cell_type": "code",
   "execution_count": 8,
   "metadata": {
    "ExecuteTime": {
     "end_time": "2018-06-09T07:17:11.820512Z",
     "start_time": "2018-06-09T07:17:11.802799Z"
    }
   },
   "outputs": [],
   "source": [
    "def load_train_data_cv(n_split):\n",
    "    for i in range(10):\n",
    "        if i==0:\n",
    "            train_feature = np.loadtxt('data/digit_train{}.csv'.format(i), delimiter=',')\n",
    "            train_label = np.array([i]*train_feature.shape[0])\n",
    "            group_feature = np.split(train_feature, n_split)\n",
    "            group_label = np.split(train_label, n_split)\n",
    "        else:\n",
    "            temp_feature = np.loadtxt('data/digit_train{}.csv'.format(i), delimiter=',')\n",
    "            temp_group_feature = np.split(temp_feature, n_split)\n",
    "            temp_label = np.array([i]*temp_feature.shape[0])\n",
    "            temp_group_label = np.split(temp_label, n_split)\n",
    "            \n",
    "            for m in range(n_split):\n",
    "                group_feature[m] = np.vstack([group_feature[m], temp_group_feature[m]])\n",
    "                group_label[m] = np.hstack([group_label[m], temp_group_label[m]])\n",
    "            \n",
    "    return group_feature, group_label"
   ]
  },
  {
   "cell_type": "code",
   "execution_count": 38,
   "metadata": {
    "ExecuteTime": {
     "end_time": "2018-06-09T06:55:33.693815Z",
     "start_time": "2018-06-09T06:55:32.733594Z"
    }
   },
   "outputs": [],
   "source": [
    "group_feature, group_label = load_train_data_cv(5)"
   ]
  },
  {
   "cell_type": "code",
   "execution_count": 29,
   "metadata": {
    "ExecuteTime": {
     "end_time": "2018-06-09T06:54:10.027711Z",
     "start_time": "2018-06-09T06:54:10.023688Z"
    }
   },
   "outputs": [
    {
     "data": {
      "text/plain": [
       "5"
      ]
     },
     "execution_count": 29,
     "metadata": {},
     "output_type": "execute_result"
    }
   ],
   "source": [
    "len(group_feature)"
   ]
  },
  {
   "cell_type": "code",
   "execution_count": 30,
   "metadata": {
    "ExecuteTime": {
     "end_time": "2018-06-09T06:54:11.209751Z",
     "start_time": "2018-06-09T06:54:11.205541Z"
    }
   },
   "outputs": [
    {
     "data": {
      "text/plain": [
       "(1000, 256)"
      ]
     },
     "execution_count": 30,
     "metadata": {},
     "output_type": "execute_result"
    }
   ],
   "source": [
    "group_feature[0].shape"
   ]
  },
  {
   "cell_type": "code",
   "execution_count": 31,
   "metadata": {
    "ExecuteTime": {
     "end_time": "2018-06-09T06:54:11.701755Z",
     "start_time": "2018-06-09T06:54:11.696787Z"
    }
   },
   "outputs": [
    {
     "data": {
      "text/plain": [
       "(1000,)"
      ]
     },
     "execution_count": 31,
     "metadata": {},
     "output_type": "execute_result"
    }
   ],
   "source": [
    "group_label[0].shape"
   ]
  },
  {
   "cell_type": "code",
   "execution_count": 32,
   "metadata": {
    "ExecuteTime": {
     "end_time": "2018-06-09T06:54:12.749624Z",
     "start_time": "2018-06-09T06:54:12.744146Z"
    }
   },
   "outputs": [
    {
     "data": {
      "text/plain": [
       "9"
      ]
     },
     "execution_count": 32,
     "metadata": {},
     "output_type": "execute_result"
    }
   ],
   "source": [
    "group_label[0][999]"
   ]
  },
  {
   "cell_type": "code",
   "execution_count": 36,
   "metadata": {
    "ExecuteTime": {
     "end_time": "2018-06-09T06:55:01.699180Z",
     "start_time": "2018-06-09T06:55:01.688938Z"
    }
   },
   "outputs": [],
   "source": [
    "group_feature.pop(2)\n",
    "temp = np.vstack(group_feature)"
   ]
  },
  {
   "cell_type": "code",
   "execution_count": 37,
   "metadata": {
    "ExecuteTime": {
     "end_time": "2018-06-09T06:55:06.825524Z",
     "start_time": "2018-06-09T06:55:06.821987Z"
    },
    "scrolled": false
   },
   "outputs": [
    {
     "data": {
      "text/plain": [
       "(4000, 256)"
      ]
     },
     "execution_count": 37,
     "metadata": {},
     "output_type": "execute_result"
    }
   ],
   "source": [
    "temp.shape"
   ]
  },
  {
   "cell_type": "markdown",
   "metadata": {},
   "source": [
    "`pop`はよくなさそう"
   ]
  },
  {
   "cell_type": "code",
   "execution_count": 39,
   "metadata": {
    "ExecuteTime": {
     "end_time": "2018-06-09T06:57:14.329676Z",
     "start_time": "2018-06-09T06:57:14.319681Z"
    }
   },
   "outputs": [
    {
     "name": "stdout",
     "output_type": "stream",
     "text": [
      "(4000, 256)\n",
      "5\n"
     ]
    }
   ],
   "source": [
    "temp = group_feature.copy()\n",
    "temp.pop(2)\n",
    "temp1 = np.vstack(temp)\n",
    "print(temp1.shape)\n",
    "print(len(group_feature))"
   ]
  },
  {
   "cell_type": "code",
   "execution_count": 9,
   "metadata": {
    "ExecuteTime": {
     "end_time": "2018-06-09T07:17:19.160965Z",
     "start_time": "2018-06-09T07:17:19.142023Z"
    }
   },
   "outputs": [],
   "source": [
    "def cross_validation(n_split=5, params=[1,2,3,4,5,10,20]):\n",
    "    n_params = len(params)\n",
    "    score_list = np.zeros(n_params)\n",
    "    group_feature, group_label = load_train_data_cv(n_split)\n",
    "    \n",
    "    for j in range(n_params):\n",
    "        for i in range(n_split):\n",
    "            temp_group_feature = group_feature.copy()\n",
    "            temp_test_feature = temp_group_feature.pop(i)\n",
    "            temp_train_feature = np.vstack(temp_group_feature)\n",
    "            \n",
    "            temp_group_label = group_label.copy()\n",
    "            temp_test_label = temp_group_label.pop(i)\n",
    "            temp_train_label = np.hstack(temp_group_label)\n",
    "            \n",
    "            score_list[j] += calc_accuracy(temp_train_feature, temp_train_label, temp_test_feature, temp_test_label, k=params[j])\n",
    "\n",
    "    opt_param = params[np.argmax(score_list)]\n",
    "    print(score_list)\n",
    "    return opt_param"
   ]
  },
  {
   "cell_type": "code",
   "execution_count": 10,
   "metadata": {
    "ExecuteTime": {
     "end_time": "2018-06-09T07:21:45.143776Z",
     "start_time": "2018-06-09T07:17:26.758425Z"
    }
   },
   "outputs": [
    {
     "name": "stdout",
     "output_type": "stream",
     "text": [
      "[ 4.838  4.837  4.825]\n"
     ]
    },
    {
     "data": {
      "text/plain": [
       "1"
      ]
     },
     "execution_count": 10,
     "metadata": {},
     "output_type": "execute_result"
    }
   ],
   "source": [
    "cross_validation(n_split=5, params=[1,3,5])"
   ]
  },
  {
   "cell_type": "code",
   "execution_count": 40,
   "metadata": {
    "ExecuteTime": {
     "end_time": "2018-06-09T06:58:46.340171Z",
     "start_time": "2018-06-09T06:58:46.337543Z"
    }
   },
   "outputs": [],
   "source": [
    "test = np.array([1,2,3,4,5])"
   ]
  },
  {
   "cell_type": "code",
   "execution_count": 15,
   "metadata": {
    "ExecuteTime": {
     "end_time": "2018-06-09T06:44:03.566813Z",
     "start_time": "2018-06-09T06:44:03.562155Z"
    }
   },
   "outputs": [
    {
     "data": {
      "text/plain": [
       "[array([1]), array([2]), array([3]), array([4]), array([5])]"
      ]
     },
     "execution_count": 15,
     "metadata": {},
     "output_type": "execute_result"
    }
   ],
   "source": [
    "np.split(test, 5)"
   ]
  },
  {
   "cell_type": "code",
   "execution_count": 33,
   "metadata": {
    "ExecuteTime": {
     "end_time": "2018-06-09T06:54:44.875544Z",
     "start_time": "2018-06-09T06:54:44.872945Z"
    }
   },
   "outputs": [],
   "source": [
    "test = [1,2,3,4]"
   ]
  },
  {
   "cell_type": "code",
   "execution_count": 34,
   "metadata": {
    "ExecuteTime": {
     "end_time": "2018-06-09T06:54:48.210017Z",
     "start_time": "2018-06-09T06:54:48.206008Z"
    }
   },
   "outputs": [
    {
     "data": {
      "text/plain": [
       "3"
      ]
     },
     "execution_count": 34,
     "metadata": {},
     "output_type": "execute_result"
    }
   ],
   "source": [
    "test.pop(2)"
   ]
  },
  {
   "cell_type": "code",
   "execution_count": 35,
   "metadata": {
    "ExecuteTime": {
     "end_time": "2018-06-09T06:54:50.903246Z",
     "start_time": "2018-06-09T06:54:50.897543Z"
    }
   },
   "outputs": [
    {
     "data": {
      "text/plain": [
       "[1, 2, 4]"
      ]
     },
     "execution_count": 35,
     "metadata": {},
     "output_type": "execute_result"
    }
   ],
   "source": [
    "test"
   ]
  },
  {
   "cell_type": "code",
   "execution_count": 16,
   "metadata": {
    "ExecuteTime": {
     "end_time": "2018-06-09T07:34:03.629236Z",
     "start_time": "2018-06-09T07:34:03.623888Z"
    }
   },
   "outputs": [
    {
     "name": "stdout",
     "output_type": "stream",
     "text": [
      "0.9676\n",
      "0.9673999999999999\n",
      "0.9650000000000001\n"
     ]
    }
   ],
   "source": [
    "test = [4.838,  4.837,  4.825]\n",
    "for i in test:\n",
    "    print(i/5)"
   ]
  },
  {
   "cell_type": "markdown",
   "metadata": {},
   "source": [
    "# まとめ"
   ]
  },
  {
   "cell_type": "code",
   "execution_count": 15,
   "metadata": {
    "ExecuteTime": {
     "end_time": "2018-06-09T07:33:46.500357Z",
     "start_time": "2018-06-09T07:33:46.170733Z"
    }
   },
   "outputs": [],
   "source": [
    "import numpy as np\n",
    "from collections import Counter\n",
    "from sklearn.metrics import accuracy_score\n",
    "\n",
    "class kNN(object):\n",
    "    def __init__(self, k=1):\n",
    "        self._train_data = None\n",
    "        self._target_data = None\n",
    "        self._k = k\n",
    "\n",
    "\n",
    "    def fit(self, train_data, target_data):\n",
    "        self._train_data = train_data\n",
    "        self._target_data = target_data\n",
    "\n",
    "\n",
    "    def predict(self, x):\n",
    "        distances = np.array([np.linalg.norm(p - x) for p in self._train_data])\n",
    "        nearest_indices = distances.argsort()[:self._k]\n",
    "        nearest_labels = self._target_data[nearest_indices]\n",
    "        c = Counter(nearest_labels)\n",
    "        return c.most_common(1)[0][0]\n",
    "\n",
    "\n",
    "def load_train_data():\n",
    "    for i in range(10):\n",
    "        if i==0:\n",
    "            train_feature = np.loadtxt('data/digit_train{}.csv'.format(i), delimiter=',')\n",
    "            train_label = np.array([i]*train_feature.shape[0])\n",
    "        else:\n",
    "            temp_feature = np.loadtxt('data/digit_train{}.csv'.format(i), delimiter=',')\n",
    "            train_feature = np.vstack([train_feature, temp_feature])\n",
    "            temp_label = np.array([i]*temp_feature.shape[0])\n",
    "            train_label = np.hstack([train_label, temp_label])\n",
    "            \n",
    "    return train_feature, train_label\n",
    "\n",
    "\n",
    "def load_test_data():\n",
    "    for i in range(10):\n",
    "        if i==0:\n",
    "            test_feature = np.loadtxt('data/digit_test{}.csv'.format(i), delimiter=',')\n",
    "            test_label = np.array([i]*test_feature.shape[0])\n",
    "        else:\n",
    "            temp_feature = np.loadtxt('data/digit_test{}.csv'.format(i), delimiter=',')\n",
    "            test_feature = np.vstack([test_feature, temp_feature])\n",
    "            temp_label = np.array([i]*temp_feature.shape[0])\n",
    "            test_label = np.hstack([test_label, temp_label])\n",
    "            \n",
    "    return test_feature, test_label\n",
    "\n",
    "\n",
    "def calc_accuracy(train_feature, train_label, test_feature, test_label, k=1):\n",
    "    model = kNN(k)\n",
    "    model.fit(train_feature, train_label)\n",
    "    predicted_labels = []\n",
    "    for feature in test_feature:\n",
    "        predicted_label = model.predict(feature)\n",
    "        predicted_labels.append(predicted_label)\n",
    "    return accuracy_score(test_label, predicted_labels)\n",
    "\n",
    "\n",
    "def load_train_data_cv(n_split=5):\n",
    "    for i in range(10):\n",
    "        if i==0:\n",
    "            train_feature = np.loadtxt('data/digit_train{}.csv'.format(i), delimiter=',')\n",
    "            train_label = np.array([i]*train_feature.shape[0])\n",
    "            group_feature = np.split(train_feature, n_split)\n",
    "            group_label = np.split(train_label, n_split)\n",
    "        else:\n",
    "            temp_feature = np.loadtxt('data/digit_train{}.csv'.format(i), delimiter=',')\n",
    "            temp_group_feature = np.split(temp_feature, n_split)\n",
    "            temp_label = np.array([i]*temp_feature.shape[0])\n",
    "            temp_group_label = np.split(temp_label, n_split)\n",
    "            \n",
    "            for m in range(n_split):\n",
    "                group_feature[m] = np.vstack([group_feature[m], temp_group_feature[m]])\n",
    "                group_label[m] = np.hstack([group_label[m], temp_group_label[m]])\n",
    "            \n",
    "    return group_feature, group_label\n",
    "\n",
    "def cross_validation(n_split=5, params=[1,2,3,4,5,10,20]):\n",
    "    n_params = len(params)\n",
    "    score_list = np.zeros(n_params)\n",
    "    group_feature, group_label = load_train_data_cv(n_split)\n",
    "    \n",
    "    for j in range(n_params):\n",
    "        for i in range(n_split):\n",
    "            temp_group_feature = group_feature.copy()\n",
    "            temp_test_feature = temp_group_feature.pop(i)\n",
    "            temp_train_feature = np.vstack(temp_group_feature)\n",
    "            \n",
    "            temp_group_label = group_label.copy()\n",
    "            temp_test_label = temp_group_label.pop(i)\n",
    "            temp_train_label = np.hstack(temp_group_label)\n",
    "            \n",
    "            score_list[j] += calc_accuracy(temp_train_feature, temp_train_label, temp_test_feature, temp_test_label, k=params[j])/n_split\n",
    "\n",
    "    opt_param = params[np.argmax(score_list)]\n",
    "    print(score_list)\n",
    "    return opt_param"
   ]
  },
  {
   "cell_type": "code",
   "execution_count": 13,
   "metadata": {
    "ExecuteTime": {
     "end_time": "2018-06-09T07:26:41.574494Z",
     "start_time": "2018-06-09T07:26:41.569063Z"
    }
   },
   "outputs": [],
   "source": [
    "def main():\n",
    "    k_opt = cross_validation(n_split=5, params=[1,2,3,4,5,10,20])\n",
    "    train_feature, train_label = load_train_data()\n",
    "    test_feature, test_label = load_test_data()\n",
    "    score = calc_accuracy(train_feature, train_label, test_feature, test_label, k=k_opt)\n",
    "    print(score)"
   ]
  },
  {
   "cell_type": "code",
   "execution_count": null,
   "metadata": {},
   "outputs": [],
   "source": []
  }
 ],
 "metadata": {
  "kernelspec": {
   "display_name": "Python 3",
   "language": "python",
   "name": "python3"
  },
  "language_info": {
   "codemirror_mode": {
    "name": "ipython",
    "version": 3
   },
   "file_extension": ".py",
   "mimetype": "text/x-python",
   "name": "python",
   "nbconvert_exporter": "python",
   "pygments_lexer": "ipython3",
   "version": "3.6.4"
  },
  "latex_envs": {
   "LaTeX_envs_menu_present": true,
   "autocomplete": true,
   "bibliofile": "biblio.bib",
   "cite_by": "apalike",
   "current_citInitial": 1,
   "eqLabelWithNumbers": true,
   "eqNumInitial": 1,
   "hotkeys": {
    "equation": "Ctrl-E",
    "itemize": "Ctrl-I"
   },
   "labels_anchors": false,
   "latex_user_defs": false,
   "report_style_numbering": false,
   "user_envs_cfg": false
  },
  "toc": {
   "nav_menu": {},
   "number_sections": true,
   "sideBar": true,
   "skip_h1_title": false,
   "toc_cell": false,
   "toc_position": {},
   "toc_section_display": "block",
   "toc_window_display": false
  }
 },
 "nbformat": 4,
 "nbformat_minor": 2
}
