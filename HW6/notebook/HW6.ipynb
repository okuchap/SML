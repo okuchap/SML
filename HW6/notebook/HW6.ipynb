{
 "cells": [
  {
   "cell_type": "markdown",
   "metadata": {},
   "source": [
    "# 宿題1"
   ]
  },
  {
   "cell_type": "code",
   "execution_count": 76,
   "metadata": {
    "ExecuteTime": {
     "end_time": "2018-06-08T12:10:30.566966Z",
     "start_time": "2018-06-08T12:10:30.559663Z"
    }
   },
   "outputs": [],
   "source": [
    "import numpy as np\n",
    "import scipy as sp\n",
    "from numpy.random import randn, rand\n",
    "import matplotlib.pyplot as plt\n",
    "%matplotlib inline\n",
    "import seaborn as sns\n",
    "from scipy.stats import norm"
   ]
  },
  {
   "cell_type": "markdown",
   "metadata": {},
   "source": [
    "## 逆関数法による乱数生成"
   ]
  },
  {
   "cell_type": "code",
   "execution_count": 53,
   "metadata": {
    "ExecuteTime": {
     "end_time": "2018-06-08T11:58:24.202479Z",
     "start_time": "2018-06-08T11:58:24.188037Z"
    }
   },
   "outputs": [],
   "source": [
    "def myrand(n=5000):\n",
    "    x = np.zeros(n)\n",
    "    u = rand(n)\n",
    "    flag = (0 <= u) * (u < 1/8)\n",
    "    x[flag] = np.sqrt(8*u[flag])\n",
    "    flag = (1/8 <= u) * (u < 1/4)\n",
    "    x[flag] = 2 - np.sqrt(2 - 8*u[flag])\n",
    "    flag = (1/4 <= u) * (u < 1/2)\n",
    "    x[flag] = 1 + 4*u[flag]\n",
    "    flag = (1/2 <= u) * (u < 3/4)\n",
    "    x[flag] = 3 + np.sqrt(4*u[flag] - 2)\n",
    "    flag = (3/4 <= u) * (u <= 1)\n",
    "    x[flag] = 5 - np.sqrt(4 - 4*u[flag])\n",
    "    return x"
   ]
  },
  {
   "cell_type": "code",
   "execution_count": 37,
   "metadata": {
    "ExecuteTime": {
     "end_time": "2018-06-08T11:47:57.825732Z",
     "start_time": "2018-06-08T11:47:57.821089Z"
    }
   },
   "outputs": [
    {
     "data": {
      "text/plain": [
       "array([[ 0.,  0.,  0.]])"
      ]
     },
     "execution_count": 37,
     "metadata": {},
     "output_type": "execute_result"
    }
   ],
   "source": [
    "np.zeros((1,3))"
   ]
  },
  {
   "cell_type": "code",
   "execution_count": 54,
   "metadata": {
    "ExecuteTime": {
     "end_time": "2018-06-08T11:58:27.599384Z",
     "start_time": "2018-06-08T11:58:27.595923Z"
    },
    "scrolled": true
   },
   "outputs": [],
   "source": [
    "x = myrand()"
   ]
  },
  {
   "cell_type": "code",
   "execution_count": 55,
   "metadata": {
    "ExecuteTime": {
     "end_time": "2018-06-08T11:58:28.778115Z",
     "start_time": "2018-06-08T11:58:28.659111Z"
    }
   },
   "outputs": [
    {
     "data": {
      "image/png": "[encoded data removed]",
      "text/plain": [
       "<matplotlib.figure.Figure at 0x113bef400>"
      ]
     },
     "metadata": {},
     "output_type": "display_data"
    }
   ],
   "source": [
    "fig = plt.figure()\n",
    "ax = fig.add_subplot(1,1,1)\n",
    "ax.set_ylabel('freq')\n",
    "sns.distplot(x, kde=False, rug=False, bins=25)\n",
    "None"
   ]
  },
  {
   "cell_type": "code",
   "execution_count": 7,
   "metadata": {
    "ExecuteTime": {
     "end_time": "2018-06-08T11:36:19.551936Z",
     "start_time": "2018-06-08T11:36:19.546532Z"
    }
   },
   "outputs": [
    {
     "data": {
      "text/plain": [
       "array([[ 0.7736542 ,  0.78195198,  0.63769635,  0.1331327 ,  0.73824821]])"
      ]
     },
     "execution_count": 7,
     "metadata": {},
     "output_type": "execute_result"
    }
   ],
   "source": [
    "rand(1,5)"
   ]
  },
  {
   "cell_type": "code",
   "execution_count": 8,
   "metadata": {
    "ExecuteTime": {
     "end_time": "2018-06-08T11:37:34.146382Z",
     "start_time": "2018-06-08T11:37:34.143152Z"
    }
   },
   "outputs": [],
   "source": [
    "test = np.array([1,2,3])"
   ]
  },
  {
   "cell_type": "code",
   "execution_count": 9,
   "metadata": {
    "ExecuteTime": {
     "end_time": "2018-06-08T11:37:49.352689Z",
     "start_time": "2018-06-08T11:37:49.342292Z"
    }
   },
   "outputs": [
    {
     "data": {
      "text/plain": [
       "array([ True, False, False], dtype=bool)"
      ]
     },
     "execution_count": 9,
     "metadata": {},
     "output_type": "execute_result"
    }
   ],
   "source": [
    "test < 1.5"
   ]
  },
  {
   "cell_type": "code",
   "execution_count": 10,
   "metadata": {
    "ExecuteTime": {
     "end_time": "2018-06-08T11:38:33.568656Z",
     "start_time": "2018-06-08T11:38:33.565924Z"
    }
   },
   "outputs": [],
   "source": [
    "flag = test < 1.5"
   ]
  },
  {
   "cell_type": "code",
   "execution_count": 11,
   "metadata": {
    "ExecuteTime": {
     "end_time": "2018-06-08T11:38:35.601997Z",
     "start_time": "2018-06-08T11:38:35.597894Z"
    }
   },
   "outputs": [
    {
     "data": {
      "text/plain": [
       "array([ True, False, False], dtype=bool)"
      ]
     },
     "execution_count": 11,
     "metadata": {},
     "output_type": "execute_result"
    }
   ],
   "source": [
    "flag"
   ]
  },
  {
   "cell_type": "code",
   "execution_count": 14,
   "metadata": {
    "ExecuteTime": {
     "end_time": "2018-06-08T11:38:59.889939Z",
     "start_time": "2018-06-08T11:38:59.887679Z"
    }
   },
   "outputs": [],
   "source": [
    "test[flag] = 100"
   ]
  },
  {
   "cell_type": "code",
   "execution_count": 15,
   "metadata": {
    "ExecuteTime": {
     "end_time": "2018-06-08T11:39:01.569966Z",
     "start_time": "2018-06-08T11:39:01.565471Z"
    }
   },
   "outputs": [
    {
     "data": {
      "text/plain": [
       "array([100,   2,   3])"
      ]
     },
     "execution_count": 15,
     "metadata": {},
     "output_type": "execute_result"
    }
   ],
   "source": [
    "test"
   ]
  },
  {
   "cell_type": "code",
   "execution_count": 16,
   "metadata": {
    "ExecuteTime": {
     "end_time": "2018-06-08T11:39:18.321055Z",
     "start_time": "2018-06-08T11:39:18.316721Z"
    }
   },
   "outputs": [
    {
     "data": {
      "text/plain": [
       "array([100])"
      ]
     },
     "execution_count": 16,
     "metadata": {},
     "output_type": "execute_result"
    }
   ],
   "source": [
    "test[flag]"
   ]
  },
  {
   "cell_type": "code",
   "execution_count": 25,
   "metadata": {
    "ExecuteTime": {
     "end_time": "2018-06-08T11:45:10.347579Z",
     "start_time": "2018-06-08T11:45:10.340868Z"
    }
   },
   "outputs": [
    {
     "data": {
      "text/plain": [
       "array([100,   2,   3])"
      ]
     },
     "execution_count": 25,
     "metadata": {},
     "output_type": "execute_result"
    }
   ],
   "source": [
    "test"
   ]
  },
  {
   "cell_type": "code",
   "execution_count": 35,
   "metadata": {
    "ExecuteTime": {
     "end_time": "2018-06-08T11:47:10.977815Z",
     "start_time": "2018-06-08T11:47:10.973052Z"
    }
   },
   "outputs": [
    {
     "data": {
      "text/plain": [
       "array([False,  True, False], dtype=bool)"
      ]
     },
     "execution_count": 35,
     "metadata": {},
     "output_type": "execute_result"
    }
   ],
   "source": [
    "(test < 3) * (test > 1)"
   ]
  },
  {
   "cell_type": "markdown",
   "metadata": {},
   "source": [
    "## ガウスカーネル密度推定法"
   ]
  },
  {
   "cell_type": "code",
   "execution_count": 78,
   "metadata": {
    "ExecuteTime": {
     "end_time": "2018-06-08T12:12:12.317988Z",
     "start_time": "2018-06-08T12:12:12.314306Z"
    }
   },
   "outputs": [],
   "source": [
    "np.random.seed(1)\n",
    "sample = myrand()"
   ]
  },
  {
   "cell_type": "code",
   "execution_count": 102,
   "metadata": {
    "ExecuteTime": {
     "end_time": "2018-06-08T12:30:06.224450Z",
     "start_time": "2018-06-08T12:30:06.218544Z"
    }
   },
   "outputs": [],
   "source": [
    "def gkernel_est(sample, x=np.linspace(0, 5, 501), bandwidth=0.1):\n",
    "    pxh = np.zeros_like(x)\n",
    "    n = sample.shape[0]\n",
    "    for i in range(n):\n",
    "        pxh = pxh + norm.pdf(x, loc=sample[i], scale=bandwidth)\n",
    "    return x, pxh"
   ]
  },
  {
   "cell_type": "code",
   "execution_count": 64,
   "metadata": {
    "ExecuteTime": {
     "end_time": "2018-06-08T12:04:45.971277Z",
     "start_time": "2018-06-08T12:04:45.966226Z"
    }
   },
   "outputs": [
    {
     "data": {
      "text/plain": [
       "16.147287356410022"
      ]
     },
     "execution_count": 64,
     "metadata": {},
     "output_type": "execute_result"
    }
   ],
   "source": [
    "sp.random.normal(loc=1, scale=4, size=3000).var()"
   ]
  },
  {
   "cell_type": "code",
   "execution_count": 65,
   "metadata": {
    "ExecuteTime": {
     "end_time": "2018-06-08T12:04:53.871436Z",
     "start_time": "2018-06-08T12:04:53.866872Z"
    }
   },
   "outputs": [
    {
     "data": {
      "text/plain": [
       "1.0315004246587389"
      ]
     },
     "execution_count": 65,
     "metadata": {},
     "output_type": "execute_result"
    }
   ],
   "source": [
    "sp.random.normal(loc=1, scale=4, size=3000).mean()"
   ]
  },
  {
   "cell_type": "code",
   "execution_count": 67,
   "metadata": {
    "ExecuteTime": {
     "end_time": "2018-06-08T12:06:27.207692Z",
     "start_time": "2018-06-08T12:06:27.202548Z"
    }
   },
   "outputs": [
    {
     "data": {
      "text/plain": [
       "array([-1.28865148,  0.82153081,  0.10158852])"
      ]
     },
     "execution_count": 67,
     "metadata": {},
     "output_type": "execute_result"
    }
   ],
   "source": [
    "test = np.array([-1,0,1])\n",
    "sp.random.normal(test)"
   ]
  },
  {
   "cell_type": "code",
   "execution_count": 68,
   "metadata": {
    "ExecuteTime": {
     "end_time": "2018-06-08T12:07:47.169188Z",
     "start_time": "2018-06-08T12:07:47.166765Z"
    }
   },
   "outputs": [],
   "source": [
    "from scipy.stats import norm"
   ]
  },
  {
   "cell_type": "code",
   "execution_count": 75,
   "metadata": {
    "ExecuteTime": {
     "end_time": "2018-06-08T12:10:18.138897Z",
     "start_time": "2018-06-08T12:10:18.134354Z"
    }
   },
   "outputs": [
    {
     "data": {
      "text/plain": [
       "array([ 0.24197072,  0.39894228,  0.24197072])"
      ]
     },
     "execution_count": 75,
     "metadata": {},
     "output_type": "execute_result"
    }
   ],
   "source": [
    "norm.pdf(test, loc=0, scale=1)"
   ]
  },
  {
   "cell_type": "code",
   "execution_count": 103,
   "metadata": {
    "ExecuteTime": {
     "end_time": "2018-06-08T12:30:14.496795Z",
     "start_time": "2018-06-08T12:30:13.998918Z"
    }
   },
   "outputs": [],
   "source": [
    "x, pxh = gkernel_est(sample=sample)"
   ]
  },
  {
   "cell_type": "code",
   "execution_count": 104,
   "metadata": {
    "ExecuteTime": {
     "end_time": "2018-06-08T12:30:15.552580Z",
     "start_time": "2018-06-08T12:30:15.467203Z"
    }
   },
   "outputs": [
    {
     "data": {
      "image/png": "[encoded data removed]",
      "text/plain": [
       "<matplotlib.figure.Figure at 0x11bfed630>"
      ]
     },
     "metadata": {},
     "output_type": "display_data"
    }
   ],
   "source": [
    "plt.plot(x, pxh)\n",
    "plt.show()"
   ]
  },
  {
   "cell_type": "markdown",
   "metadata": {},
   "source": [
    "## 尤度交差確認"
   ]
  },
  {
   "cell_type": "code",
   "execution_count": 131,
   "metadata": {
    "ExecuteTime": {
     "end_time": "2018-06-08T12:45:14.153919Z",
     "start_time": "2018-06-08T12:45:14.137511Z"
    }
   },
   "outputs": [],
   "source": [
    "def cross_validation(sample, n_split=5, params=[0.01, 0.1, 0.5]):\n",
    "    n_params = len(params)\n",
    "    likelihoods = np.zeros(n_params)\n",
    "    group = np.split(sample, n_split)\n",
    "    for j in range(n_params):\n",
    "        for i in range(n_split):\n",
    "            if i==0:\n",
    "                sample_temp = np.hstack(group[i+1:][0])\n",
    "            elif i==n_split-1:\n",
    "                sample_temp = np.hstack(group[0:i])\n",
    "            else:\n",
    "                sample_temp = np.hstack([np.hstack(group[0:i]), group[i+1:][0]])\n",
    "            _, pxh = gkernel_est(sample_temp, group[i], bandwidth=params[j])\n",
    "            likelihoods[j] += np.sum(np.log(pxh))\n",
    "    opt_param = params[np.argmax(likelihoods)]\n",
    "    print(likelihoods)\n",
    "    return opt_param"
   ]
  },
  {
   "cell_type": "code",
   "execution_count": 108,
   "metadata": {
    "ExecuteTime": {
     "end_time": "2018-06-08T12:36:55.852606Z",
     "start_time": "2018-06-08T12:36:55.850238Z"
    }
   },
   "outputs": [],
   "source": [
    "test = np.arange(10)"
   ]
  },
  {
   "cell_type": "code",
   "execution_count": 109,
   "metadata": {
    "ExecuteTime": {
     "end_time": "2018-06-08T12:36:57.090932Z",
     "start_time": "2018-06-08T12:36:57.085353Z"
    }
   },
   "outputs": [
    {
     "data": {
      "text/plain": [
       "array([0, 1, 2, 3, 4, 5, 6, 7, 8, 9])"
      ]
     },
     "execution_count": 109,
     "metadata": {},
     "output_type": "execute_result"
    }
   ],
   "source": [
    "test"
   ]
  },
  {
   "cell_type": "code",
   "execution_count": 110,
   "metadata": {
    "ExecuteTime": {
     "end_time": "2018-06-08T12:36:57.538916Z",
     "start_time": "2018-06-08T12:36:57.533935Z"
    }
   },
   "outputs": [
    {
     "data": {
      "text/plain": [
       "10"
      ]
     },
     "execution_count": 110,
     "metadata": {},
     "output_type": "execute_result"
    }
   ],
   "source": [
    "len(test)"
   ]
  },
  {
   "cell_type": "code",
   "execution_count": 111,
   "metadata": {
    "ExecuteTime": {
     "end_time": "2018-06-08T12:36:58.027432Z",
     "start_time": "2018-06-08T12:36:58.020404Z"
    }
   },
   "outputs": [
    {
     "data": {
      "text/plain": [
       "[array([0, 1]), array([2, 3]), array([4, 5]), array([6, 7]), array([8, 9])]"
      ]
     },
     "execution_count": 111,
     "metadata": {},
     "output_type": "execute_result"
    }
   ],
   "source": [
    "np.split(test, 5)"
   ]
  },
  {
   "cell_type": "code",
   "execution_count": 112,
   "metadata": {
    "ExecuteTime": {
     "end_time": "2018-06-08T12:36:58.717637Z",
     "start_time": "2018-06-08T12:36:58.715027Z"
    }
   },
   "outputs": [],
   "source": [
    "group = np.split(test, 5)"
   ]
  },
  {
   "cell_type": "code",
   "execution_count": 113,
   "metadata": {
    "ExecuteTime": {
     "end_time": "2018-06-08T12:36:59.671396Z",
     "start_time": "2018-06-08T12:36:59.667100Z"
    }
   },
   "outputs": [
    {
     "data": {
      "text/plain": [
       "[array([0, 1]), array([2, 3]), array([4, 5])]"
      ]
     },
     "execution_count": 113,
     "metadata": {},
     "output_type": "execute_result"
    }
   ],
   "source": [
    "group[0:3]"
   ]
  },
  {
   "cell_type": "code",
   "execution_count": 114,
   "metadata": {
    "ExecuteTime": {
     "end_time": "2018-06-08T12:37:00.325817Z",
     "start_time": "2018-06-08T12:37:00.320854Z"
    }
   },
   "outputs": [
    {
     "data": {
      "text/plain": [
       "[array([8, 9])]"
      ]
     },
     "execution_count": 114,
     "metadata": {},
     "output_type": "execute_result"
    }
   ],
   "source": [
    "group[4:]"
   ]
  },
  {
   "cell_type": "code",
   "execution_count": 119,
   "metadata": {
    "ExecuteTime": {
     "end_time": "2018-06-08T12:37:46.040672Z",
     "start_time": "2018-06-08T12:37:46.036743Z"
    }
   },
   "outputs": [
    {
     "data": {
      "text/plain": [
       "[]"
      ]
     },
     "execution_count": 119,
     "metadata": {},
     "output_type": "execute_result"
    }
   ],
   "source": [
    "group[5:]"
   ]
  },
  {
   "cell_type": "code",
   "execution_count": 121,
   "metadata": {
    "ExecuteTime": {
     "end_time": "2018-06-08T12:38:58.179414Z",
     "start_time": "2018-06-08T12:38:58.174849Z"
    }
   },
   "outputs": [
    {
     "data": {
      "text/plain": [
       "array([2, 3, 4, 5, 6, 7, 8, 9])"
      ]
     },
     "execution_count": 121,
     "metadata": {},
     "output_type": "execute_result"
    }
   ],
   "source": [
    "np.hstack(group[1:])"
   ]
  },
  {
   "cell_type": "code",
   "execution_count": 95,
   "metadata": {
    "ExecuteTime": {
     "end_time": "2018-06-08T12:24:45.482903Z",
     "start_time": "2018-06-08T12:24:45.473155Z"
    },
    "collapsed": true
   },
   "outputs": [
    {
     "ename": "ValueError",
     "evalue": "all the input arrays must have same number of dimensions",
     "output_type": "error",
     "traceback": [
      "\u001b[0;31m---------------------------------------------------------------------------\u001b[0m",
      "\u001b[0;31mValueError\u001b[0m                                Traceback (most recent call last)",
      "\u001b[0;32m<ipython-input-95-d0f91c868926>\u001b[0m in \u001b[0;36m<module>\u001b[0;34m()\u001b[0m\n\u001b[0;32m----> 1\u001b[0;31m \u001b[0mnp\u001b[0m\u001b[0;34m.\u001b[0m\u001b[0mhstack\u001b[0m\u001b[0;34m(\u001b[0m\u001b[0;34m[\u001b[0m\u001b[0mnp\u001b[0m\u001b[0;34m.\u001b[0m\u001b[0mhstack\u001b[0m\u001b[0;34m(\u001b[0m\u001b[0mgroup\u001b[0m\u001b[0;34m[\u001b[0m\u001b[0;36m0\u001b[0m\u001b[0;34m:\u001b[0m\u001b[0;36m3\u001b[0m\u001b[0;34m]\u001b[0m\u001b[0;34m)\u001b[0m\u001b[0;34m,\u001b[0m \u001b[0mgroup\u001b[0m\u001b[0;34m[\u001b[0m\u001b[0;36m4\u001b[0m\u001b[0;34m:\u001b[0m\u001b[0;34m]\u001b[0m\u001b[0;34m]\u001b[0m\u001b[0;34m)\u001b[0m\u001b[0;34m\u001b[0m\u001b[0m\n\u001b[0m",
      "\u001b[0;32m~/.pyenv/versions/anaconda3-5.0.1/lib/python3.6/site-packages/numpy/core/shape_base.py\u001b[0m in \u001b[0;36mhstack\u001b[0;34m(tup)\u001b[0m\n\u001b[1;32m    289\u001b[0m     \u001b[0;31m# As a special case, dimension 0 of 1-dimensional arrays is \"horizontal\"\u001b[0m\u001b[0;34m\u001b[0m\u001b[0;34m\u001b[0m\u001b[0m\n\u001b[1;32m    290\u001b[0m     \u001b[0;32mif\u001b[0m \u001b[0marrs\u001b[0m \u001b[0;32mand\u001b[0m \u001b[0marrs\u001b[0m\u001b[0;34m[\u001b[0m\u001b[0;36m0\u001b[0m\u001b[0;34m]\u001b[0m\u001b[0;34m.\u001b[0m\u001b[0mndim\u001b[0m \u001b[0;34m==\u001b[0m \u001b[0;36m1\u001b[0m\u001b[0;34m:\u001b[0m\u001b[0;34m\u001b[0m\u001b[0m\n\u001b[0;32m--> 291\u001b[0;31m         \u001b[0;32mreturn\u001b[0m \u001b[0m_nx\u001b[0m\u001b[0;34m.\u001b[0m\u001b[0mconcatenate\u001b[0m\u001b[0;34m(\u001b[0m\u001b[0marrs\u001b[0m\u001b[0;34m,\u001b[0m \u001b[0;36m0\u001b[0m\u001b[0;34m)\u001b[0m\u001b[0;34m\u001b[0m\u001b[0m\n\u001b[0m\u001b[1;32m    292\u001b[0m     \u001b[0;32melse\u001b[0m\u001b[0;34m:\u001b[0m\u001b[0;34m\u001b[0m\u001b[0m\n\u001b[1;32m    293\u001b[0m         \u001b[0;32mreturn\u001b[0m \u001b[0m_nx\u001b[0m\u001b[0;34m.\u001b[0m\u001b[0mconcatenate\u001b[0m\u001b[0;34m(\u001b[0m\u001b[0marrs\u001b[0m\u001b[0;34m,\u001b[0m \u001b[0;36m1\u001b[0m\u001b[0;34m)\u001b[0m\u001b[0;34m\u001b[0m\u001b[0m\n",
      "\u001b[0;31mValueError\u001b[0m: all the input arrays must have same number of dimensions"
     ]
    }
   ],
   "source": [
    "np.hstack([np.hstack(group[0:3]), group[4:]])"
   ]
  },
  {
   "cell_type": "code",
   "execution_count": 115,
   "metadata": {
    "ExecuteTime": {
     "end_time": "2018-06-08T12:37:08.870278Z",
     "start_time": "2018-06-08T12:37:08.861918Z"
    }
   },
   "outputs": [
    {
     "data": {
      "text/plain": [
       "[array([0, 1, 2, 3, 4, 5]), array([8, 9])]"
      ]
     },
     "execution_count": 115,
     "metadata": {},
     "output_type": "execute_result"
    }
   ],
   "source": [
    "[np.hstack(group[0:3]), group[4:][0]]"
   ]
  },
  {
   "cell_type": "code",
   "execution_count": 116,
   "metadata": {
    "ExecuteTime": {
     "end_time": "2018-06-08T12:37:10.979552Z",
     "start_time": "2018-06-08T12:37:10.969940Z"
    }
   },
   "outputs": [
    {
     "ename": "AttributeError",
     "evalue": "'list' object has no attribute 'shape'",
     "output_type": "error",
     "traceback": [
      "\u001b[0;31m---------------------------------------------------------------------------\u001b[0m",
      "\u001b[0;31mAttributeError\u001b[0m                            Traceback (most recent call last)",
      "\u001b[0;32m<ipython-input-116-339cd5eb7b7f>\u001b[0m in \u001b[0;36m<module>\u001b[0;34m()\u001b[0m\n\u001b[0;32m----> 1\u001b[0;31m \u001b[0mgroup\u001b[0m\u001b[0;34m[\u001b[0m\u001b[0;36m4\u001b[0m\u001b[0;34m:\u001b[0m\u001b[0;34m]\u001b[0m\u001b[0;34m.\u001b[0m\u001b[0mshape\u001b[0m\u001b[0;34m\u001b[0m\u001b[0m\n\u001b[0m",
      "\u001b[0;31mAttributeError\u001b[0m: 'list' object has no attribute 'shape'"
     ]
    }
   ],
   "source": [
    "group[4:].shape"
   ]
  },
  {
   "cell_type": "code",
   "execution_count": 117,
   "metadata": {
    "ExecuteTime": {
     "end_time": "2018-06-08T12:37:13.041789Z",
     "start_time": "2018-06-08T12:37:13.036865Z"
    }
   },
   "outputs": [
    {
     "data": {
      "text/plain": [
       "array([0, 1, 2, 3, 4, 5, 8, 9])"
      ]
     },
     "execution_count": 117,
     "metadata": {},
     "output_type": "execute_result"
    }
   ],
   "source": [
    "np.hstack([np.hstack(group[0:3]), group[4:][0]])"
   ]
  },
  {
   "cell_type": "code",
   "execution_count": 133,
   "metadata": {
    "ExecuteTime": {
     "end_time": "2018-06-08T12:45:38.460954Z",
     "start_time": "2018-06-08T12:45:33.907481Z"
    }
   },
   "outputs": [
    {
     "name": "stdout",
     "output_type": "stream",
     "text": [
      "[ 31878.54627759  31982.65881453  31385.17449453]\n"
     ]
    },
    {
     "data": {
      "text/plain": [
       "0.1"
      ]
     },
     "execution_count": 133,
     "metadata": {},
     "output_type": "execute_result"
    }
   ],
   "source": [
    "np.random.seed(5)\n",
    "sample = myrand()\n",
    "cross_validation(sample=sample)"
   ]
  },
  {
   "cell_type": "markdown",
   "metadata": {},
   "source": [
    "## まとめ"
   ]
  },
  {
   "cell_type": "code",
   "execution_count": 1,
   "metadata": {
    "ExecuteTime": {
     "end_time": "2018-06-08T12:46:59.709203Z",
     "start_time": "2018-06-08T12:46:57.778196Z"
    }
   },
   "outputs": [],
   "source": [
    "import numpy as np\n",
    "import scipy as sp\n",
    "from numpy.random import randn, rand\n",
    "import matplotlib.pyplot as plt\n",
    "%matplotlib inline\n",
    "import seaborn as sns\n",
    "from scipy.stats import norm"
   ]
  },
  {
   "cell_type": "code",
   "execution_count": 2,
   "metadata": {
    "ExecuteTime": {
     "end_time": "2018-06-08T12:47:13.935665Z",
     "start_time": "2018-06-08T12:47:13.921150Z"
    }
   },
   "outputs": [],
   "source": [
    "def myrand(n=5000):\n",
    "    x = np.zeros(n)\n",
    "    u = rand(n)\n",
    "    flag = (0 <= u) * (u < 1/8)\n",
    "    x[flag] = np.sqrt(8*u[flag])\n",
    "    flag = (1/8 <= u) * (u < 1/4)\n",
    "    x[flag] = 2 - np.sqrt(2 - 8*u[flag])\n",
    "    flag = (1/4 <= u) * (u < 1/2)\n",
    "    x[flag] = 1 + 4*u[flag]\n",
    "    flag = (1/2 <= u) * (u < 3/4)\n",
    "    x[flag] = 3 + np.sqrt(4*u[flag] - 2)\n",
    "    flag = (3/4 <= u) * (u <= 1)\n",
    "    x[flag] = 5 - np.sqrt(4 - 4*u[flag])\n",
    "    return x"
   ]
  },
  {
   "cell_type": "code",
   "execution_count": 3,
   "metadata": {
    "ExecuteTime": {
     "end_time": "2018-06-08T12:47:40.439200Z",
     "start_time": "2018-06-08T12:47:40.433429Z"
    }
   },
   "outputs": [],
   "source": [
    "def gkernel_est(sample, x=np.linspace(0, 5, 501), bandwidth=0.1):\n",
    "    pxh = np.zeros_like(x)\n",
    "    n = sample.shape[0]\n",
    "    for i in range(n):\n",
    "        pxh = pxh + norm.pdf(x, loc=sample[i], scale=bandwidth)\n",
    "    return x, pxh"
   ]
  },
  {
   "cell_type": "code",
   "execution_count": 4,
   "metadata": {
    "ExecuteTime": {
     "end_time": "2018-06-08T12:48:13.496794Z",
     "start_time": "2018-06-08T12:48:13.479805Z"
    }
   },
   "outputs": [],
   "source": [
    "def cross_validation(sample, n_split=5, params=[0.01, 0.1, 0.5]):\n",
    "    n_params = len(params)\n",
    "    likelihoods = np.zeros(n_params)\n",
    "    group = np.split(sample, n_split)\n",
    "    for j in range(n_params):\n",
    "        for i in range(n_split):\n",
    "            if i==0:\n",
    "                sample_temp = np.hstack(group[i+1:][0])\n",
    "            elif i==n_split-1:\n",
    "                sample_temp = np.hstack(group[0:i])\n",
    "            else:\n",
    "                sample_temp = np.hstack([np.hstack(group[0:i]), group[i+1:][0]])\n",
    "            _, pxh = gkernel_est(sample_temp, group[i], bandwidth=params[j])\n",
    "            likelihoods[j] += np.sum(np.log(pxh))\n",
    "    opt_param = params[np.argmax(likelihoods)]\n",
    "    print(likelihoods)\n",
    "    return opt_param"
   ]
  },
  {
   "cell_type": "code",
   "execution_count": 5,
   "metadata": {
    "ExecuteTime": {
     "end_time": "2018-06-08T12:50:37.349831Z",
     "start_time": "2018-06-08T12:50:32.264355Z"
    }
   },
   "outputs": [
    {
     "name": "stdout",
     "output_type": "stream",
     "text": [
      "[ 31799.68278059  31908.0469855   31338.88049783]\n"
     ]
    }
   ],
   "source": [
    "np.random.seed(1)\n",
    "sample = myrand()\n",
    "opt_b = cross_validation(sample=sample)\n",
    "x, pxh = gkernel_est(sample=sample, bandwidth=opt_b)"
   ]
  },
  {
   "cell_type": "code",
   "execution_count": 6,
   "metadata": {
    "ExecuteTime": {
     "end_time": "2018-06-08T12:50:42.886686Z",
     "start_time": "2018-06-08T12:50:42.705026Z"
    }
   },
   "outputs": [
    {
     "data": {
      "image/png": "[encoded data removed]",
      "text/plain": [
       "<matplotlib.figure.Figure at 0x110e8df60>"
      ]
     },
     "metadata": {},
     "output_type": "display_data"
    }
   ],
   "source": [
    "fig = plt.figure()\n",
    "ax = fig.add_subplot(1,1,1)\n",
    "ax.set_ylabel('freq')\n",
    "sns.distplot(sample, kde=False, rug=False, bins=25)\n",
    "None"
   ]
  },
  {
   "cell_type": "code",
   "execution_count": 7,
   "metadata": {
    "ExecuteTime": {
     "end_time": "2018-06-08T12:50:45.348440Z",
     "start_time": "2018-06-08T12:50:45.264343Z"
    }
   },
   "outputs": [
    {
     "data": {
      "image/png": "[encoded data removed]",
      "text/plain": [
       "<matplotlib.figure.Figure at 0x110f58e10>"
      ]
     },
     "metadata": {},
     "output_type": "display_data"
    }
   ],
   "source": [
    "plt.plot(x, pxh)\n",
    "plt.show()"
   ]
  },
  {
   "cell_type": "code",
   "execution_count": null,
   "metadata": {},
   "outputs": [],
   "source": []
  }
 ],
 "metadata": {
  "kernelspec": {
   "display_name": "Python 3",
   "language": "python",
   "name": "python3"
  },
  "language_info": {
   "codemirror_mode": {
    "name": "ipython",
    "version": 3
   },
   "file_extension": ".py",
   "mimetype": "text/x-python",
   "name": "python",
   "nbconvert_exporter": "python",
   "pygments_lexer": "ipython3",
   "version": "3.6.4"
  },
  "latex_envs": {
   "LaTeX_envs_menu_present": true,
   "autocomplete": true,
   "bibliofile": "biblio.bib",
   "cite_by": "apalike",
   "current_citInitial": 1,
   "eqLabelWithNumbers": true,
   "eqNumInitial": 1,
   "hotkeys": {
    "equation": "Ctrl-E",
    "itemize": "Ctrl-I"
   },
   "labels_anchors": false,
   "latex_user_defs": false,
   "report_style_numbering": false,
   "user_envs_cfg": false
  },
  "toc": {
   "nav_menu": {},
   "number_sections": true,
   "sideBar": true,
   "skip_h1_title": false,
   "toc_cell": false,
   "toc_position": {},
   "toc_section_display": "block",
   "toc_window_display": false
  }
 },
 "nbformat": 4,
 "nbformat_minor": 2
}
