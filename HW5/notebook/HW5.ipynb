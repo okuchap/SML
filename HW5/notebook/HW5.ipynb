{
 "cells": [
  {
   "cell_type": "code",
   "execution_count": 77,
   "metadata": {
    "ExecuteTime": {
     "end_time": "2018-06-04T22:53:06.701296Z",
     "start_time": "2018-06-04T22:53:06.697901Z"
    }
   },
   "outputs": [],
   "source": [
    "import numpy as np\n",
    "from scipy.linalg import sqrtm\n",
    "import matplotlib.pyplot as plt"
   ]
  },
  {
   "cell_type": "code",
   "execution_count": 2,
   "metadata": {
    "ExecuteTime": {
     "end_time": "2018-06-04T22:01:27.628291Z",
     "start_time": "2018-06-04T22:01:27.625125Z"
    }
   },
   "outputs": [],
   "source": [
    "N = 1000"
   ]
  },
  {
   "cell_type": "code",
   "execution_count": 42,
   "metadata": {
    "ExecuteTime": {
     "end_time": "2018-06-04T22:18:57.235588Z",
     "start_time": "2018-06-04T22:18:57.232227Z"
    }
   },
   "outputs": [],
   "source": [
    "s_gauss = np.random.randn(N)*2 + 3"
   ]
  },
  {
   "cell_type": "code",
   "execution_count": 43,
   "metadata": {
    "ExecuteTime": {
     "end_time": "2018-06-04T22:19:00.227849Z",
     "start_time": "2018-06-04T22:19:00.224727Z"
    }
   },
   "outputs": [],
   "source": [
    "s_uniform = np.random.rand(N) * 3 - 2"
   ]
  },
  {
   "cell_type": "code",
   "execution_count": 45,
   "metadata": {
    "ExecuteTime": {
     "end_time": "2018-06-04T22:19:08.580740Z",
     "start_time": "2018-06-04T22:19:08.576564Z"
    }
   },
   "outputs": [],
   "source": [
    "S = np.array([s_gauss, s_uniform])"
   ]
  },
  {
   "cell_type": "code",
   "execution_count": 47,
   "metadata": {
    "ExecuteTime": {
     "end_time": "2018-06-04T22:19:10.500253Z",
     "start_time": "2018-06-04T22:19:10.497318Z"
    }
   },
   "outputs": [],
   "source": [
    "M = np.array([[1,3],[5,1]])"
   ]
  },
  {
   "cell_type": "code",
   "execution_count": 48,
   "metadata": {
    "ExecuteTime": {
     "end_time": "2018-06-04T22:19:22.790880Z",
     "start_time": "2018-06-04T22:19:22.787932Z"
    }
   },
   "outputs": [],
   "source": [
    "X = np.dot(M, S)"
   ]
  },
  {
   "cell_type": "code",
   "execution_count": 49,
   "metadata": {
    "ExecuteTime": {
     "end_time": "2018-06-04T22:19:28.390757Z",
     "start_time": "2018-06-04T22:19:28.385158Z"
    }
   },
   "outputs": [
    {
     "data": {
      "text/plain": [
       "(2, 1000)"
      ]
     },
     "execution_count": 49,
     "metadata": {},
     "output_type": "execute_result"
    }
   ],
   "source": [
    "X.shape"
   ]
  },
  {
   "cell_type": "code",
   "execution_count": 37,
   "metadata": {
    "ExecuteTime": {
     "end_time": "2018-06-04T22:16:12.658315Z",
     "start_time": "2018-06-04T22:16:12.648781Z"
    }
   },
   "outputs": [],
   "source": [
    "def plot(x1, line=None):\n",
    "    x = x1[0]\n",
    "    y = x1[1]\n",
    "    plt.plot(x, y, 'ro', ms=3, label='class1')\n",
    "\n",
    "    if not (line is None):\n",
    "            plt.plot(line[0], line[1], 'k-', ms=5)\n",
    "            \n",
    "    #plt.xlim(np.min(x)-1, np.max(x)+1)\n",
    "    #plt.ylim(np.min(y)-1, np.max(y)+1)\n",
    "    \n",
    "    plt.show()"
   ]
  },
  {
   "cell_type": "code",
   "execution_count": 50,
   "metadata": {
    "ExecuteTime": {
     "end_time": "2018-06-04T22:19:35.953599Z",
     "start_time": "2018-06-04T22:19:35.848686Z"
    }
   },
   "outputs": [
    {
     "data": {
      "image/png": "[encoded data removed]",
      "text/plain": [
       "<matplotlib.figure.Figure at 0x11962d470>"
      ]
     },
     "metadata": {},
     "output_type": "display_data"
    }
   ],
   "source": [
    "plot(X)"
   ]
  },
  {
   "cell_type": "code",
   "execution_count": 78,
   "metadata": {
    "ExecuteTime": {
     "end_time": "2018-06-04T22:53:16.102683Z",
     "start_time": "2018-06-04T22:53:16.095350Z"
    }
   },
   "outputs": [],
   "source": [
    "def centering_sphering(X):\n",
    "    '''\n",
    "    X: d x n matrix\n",
    "    '''\n",
    "    n = X.shape[1]\n",
    "    H = np.eye(n) - np.ones((n,n))/n\n",
    "    XH = np.dot(X, H)\n",
    "    temp = sqrtm(np.linalg.inv(np.dot(XH, XH.T)/n))\n",
    "    X_tilde = np.dot(temp, XH)\n",
    "    return X_tilde"
   ]
  },
  {
   "cell_type": "code",
   "execution_count": 79,
   "metadata": {
    "ExecuteTime": {
     "end_time": "2018-06-04T22:53:17.084025Z",
     "start_time": "2018-06-04T22:53:17.023802Z"
    }
   },
   "outputs": [],
   "source": [
    "X_tilde = centering_sphering(X)"
   ]
  },
  {
   "cell_type": "code",
   "execution_count": 80,
   "metadata": {
    "ExecuteTime": {
     "end_time": "2018-06-04T22:53:28.948166Z",
     "start_time": "2018-06-04T22:53:28.943447Z"
    }
   },
   "outputs": [
    {
     "data": {
      "text/plain": [
       "(2, 1000)"
      ]
     },
     "execution_count": 80,
     "metadata": {},
     "output_type": "execute_result"
    }
   ],
   "source": [
    "X_tilde.shape"
   ]
  },
  {
   "cell_type": "code",
   "execution_count": 81,
   "metadata": {
    "ExecuteTime": {
     "end_time": "2018-06-04T22:53:40.762721Z",
     "start_time": "2018-06-04T22:53:40.758340Z"
    }
   },
   "outputs": [
    {
     "data": {
      "text/plain": [
       "3.9079850466805508e-17"
      ]
     },
     "execution_count": 81,
     "metadata": {},
     "output_type": "execute_result"
    }
   ],
   "source": [
    "np.mean(X_tilde[0])"
   ]
  },
  {
   "cell_type": "code",
   "execution_count": 84,
   "metadata": {
    "ExecuteTime": {
     "end_time": "2018-06-04T22:54:13.802973Z",
     "start_time": "2018-06-04T22:54:13.796074Z"
    }
   },
   "outputs": [
    {
     "data": {
      "text/plain": [
       "1.0000000000000002"
      ]
     },
     "execution_count": 84,
     "metadata": {},
     "output_type": "execute_result"
    }
   ],
   "source": [
    "np.std(X_tilde[0])"
   ]
  },
  {
   "cell_type": "code",
   "execution_count": 63,
   "metadata": {
    "ExecuteTime": {
     "end_time": "2018-06-04T22:43:25.497699Z",
     "start_time": "2018-06-04T22:43:25.494854Z"
    }
   },
   "outputs": [],
   "source": [
    "A = np.array([[3,1], [1,3]])"
   ]
  },
  {
   "cell_type": "code",
   "execution_count": 65,
   "metadata": {
    "ExecuteTime": {
     "end_time": "2018-06-04T22:43:51.939581Z",
     "start_time": "2018-06-04T22:43:51.906210Z"
    }
   },
   "outputs": [],
   "source": [
    "_, lamb = np.linalg.eig(A)"
   ]
  },
  {
   "cell_type": "code",
   "execution_count": 66,
   "metadata": {
    "ExecuteTime": {
     "end_time": "2018-06-04T22:43:55.385485Z",
     "start_time": "2018-06-04T22:43:55.380867Z"
    }
   },
   "outputs": [
    {
     "data": {
      "text/plain": [
       "array([[ 0.70710678, -0.70710678],\n",
       "       [ 0.70710678,  0.70710678]])"
      ]
     },
     "execution_count": 66,
     "metadata": {},
     "output_type": "execute_result"
    }
   ],
   "source": [
    "lamb"
   ]
  },
  {
   "cell_type": "code",
   "execution_count": 67,
   "metadata": {
    "ExecuteTime": {
     "end_time": "2018-06-04T22:44:23.249966Z",
     "start_time": "2018-06-04T22:44:23.244836Z"
    }
   },
   "outputs": [
    {
     "data": {
      "text/plain": [
       "array([[ 2.82842712, -1.41421356],\n",
       "       [ 2.82842712,  1.41421356]])"
      ]
     },
     "execution_count": 67,
     "metadata": {},
     "output_type": "execute_result"
    }
   ],
   "source": [
    "np.dot(A, lamb)"
   ]
  },
  {
   "cell_type": "code",
   "execution_count": 85,
   "metadata": {
    "ExecuteTime": {
     "end_time": "2018-06-04T22:58:35.826718Z",
     "start_time": "2018-06-04T22:58:35.822001Z"
    }
   },
   "outputs": [
    {
     "data": {
      "text/plain": [
       "1e-08"
      ]
     },
     "execution_count": 85,
     "metadata": {},
     "output_type": "execute_result"
    }
   ],
   "source": [
    "1e-08"
   ]
  },
  {
   "cell_type": "code",
   "execution_count": 86,
   "metadata": {
    "ExecuteTime": {
     "end_time": "2018-06-04T22:59:00.820065Z",
     "start_time": "2018-06-04T22:59:00.815783Z"
    }
   },
   "outputs": [
    {
     "data": {
      "text/plain": [
       "inf"
      ]
     },
     "execution_count": 86,
     "metadata": {},
     "output_type": "execute_result"
    }
   ],
   "source": [
    "np.inf"
   ]
  },
  {
   "cell_type": "code",
   "execution_count": 109,
   "metadata": {
    "ExecuteTime": {
     "end_time": "2018-06-04T23:21:56.006503Z",
     "start_time": "2018-06-04T23:21:55.983145Z"
    }
   },
   "outputs": [],
   "source": [
    "def approx_newton(X, Nlim=50):\n",
    "    '''\n",
    "    X should be normalized.\n",
    "    X: d x n matrix\n",
    "    '''\n",
    "    n = X.shape[1]\n",
    "    b = np.array([1,0])\n",
    "    threshold = 1e-08\n",
    "    diff = np.inf\n",
    "    n_loop = 1\n",
    "    \n",
    "    while n_loop < Nlim:\n",
    "        #print(b)\n",
    "        b_prev = b\n",
    "        sum = 0\n",
    "        for i in range(n):\n",
    "            sum += X[:, i] * (np.dot(b, X[:, i]) ** 3)\n",
    "        b = 3 * b - sum/n\n",
    "        b = b / np.linalg.norm(b)\n",
    "        diff = np.linalg.norm(b - b_prev)\n",
    "        if (diff < threshold):\n",
    "            break\n",
    "        else:\n",
    "            n_loop += 1\n",
    "    \n",
    "    if n_loop == Nlim:\n",
    "        print('may not be converged')\n",
    "    \n",
    "    return b"
   ]
  },
  {
   "cell_type": "code",
   "execution_count": 105,
   "metadata": {
    "ExecuteTime": {
     "end_time": "2018-06-04T23:16:48.249570Z",
     "start_time": "2018-06-04T23:16:48.122632Z"
    }
   },
   "outputs": [
    {
     "name": "stdout",
     "output_type": "stream",
     "text": [
      "[1 0]\n",
      "[ 0.99206035 -0.12576269]\n",
      "[ 0.99465987 -0.10320727]\n",
      "[ 0.99422366 -0.10732807]\n",
      "[ 0.99430417 -0.10657966]\n",
      "[ 0.99428957 -0.10671572]\n",
      "[ 0.99429223 -0.10669099]\n",
      "[ 0.99429174 -0.10669549]\n",
      "[ 0.99429183 -0.10669467]\n",
      "[ 0.99429182 -0.10669482]\n",
      "[ 0.99429182 -0.10669479]\n"
     ]
    },
    {
     "data": {
      "text/plain": [
       "array([ 0.99429182, -0.1066948 ])"
      ]
     },
     "execution_count": 105,
     "metadata": {},
     "output_type": "execute_result"
    }
   ],
   "source": [
    "approx_newton(X_tilde)"
   ]
  },
  {
   "cell_type": "code",
   "execution_count": 110,
   "metadata": {
    "ExecuteTime": {
     "end_time": "2018-06-04T23:22:00.335619Z",
     "start_time": "2018-06-04T23:22:00.271562Z"
    }
   },
   "outputs": [],
   "source": [
    "b = approx_newton(X_tilde)"
   ]
  },
  {
   "cell_type": "code",
   "execution_count": 111,
   "metadata": {
    "ExecuteTime": {
     "end_time": "2018-06-04T23:22:02.566559Z",
     "start_time": "2018-06-04T23:22:02.456943Z"
    }
   },
   "outputs": [
    {
     "data": {
      "image/png": "[encoded data removed]",
      "text/plain": [
       "<matplotlib.figure.Figure at 0x1123cec50>"
      ]
     },
     "metadata": {},
     "output_type": "display_data"
    }
   ],
   "source": [
    "plot(X_tilde)"
   ]
  },
  {
   "cell_type": "code",
   "execution_count": 116,
   "metadata": {
    "ExecuteTime": {
     "end_time": "2018-06-04T23:29:00.935611Z",
     "start_time": "2018-06-04T23:29:00.930683Z"
    }
   },
   "outputs": [],
   "source": [
    "def line(b, X):\n",
    "    x_min = np.min(X[0])\n",
    "    x_max = np.max(X[1])\n",
    "    x = np.linspace(x_min, x_max, 1000)\n",
    "    return [x, (b[1]/b[0])*x]"
   ]
  },
  {
   "cell_type": "code",
   "execution_count": 117,
   "metadata": {
    "ExecuteTime": {
     "end_time": "2018-06-04T23:29:02.134061Z",
     "start_time": "2018-06-04T23:29:02.032694Z"
    }
   },
   "outputs": [
    {
     "data": {
      "image/png": "[encoded data removed]",
      "text/plain": [
       "<matplotlib.figure.Figure at 0x121c54ef0>"
      ]
     },
     "metadata": {},
     "output_type": "display_data"
    }
   ],
   "source": [
    "plot(X_tilde, line(b, X_tilde))"
   ]
  },
  {
   "cell_type": "markdown",
   "metadata": {},
   "source": [
    "# Summary"
   ]
  },
  {
   "cell_type": "code",
   "execution_count": null,
   "metadata": {},
   "outputs": [],
   "source": [
    "import numpy as np\n",
    "from scipy.linalg import sqrtm\n",
    "import matplotlib.pyplot as plt\n",
    "\n",
    "N = 1000"
   ]
  }
 ],
 "metadata": {
  "kernelspec": {
   "display_name": "Python 3",
   "language": "python",
   "name": "python3"
  },
  "language_info": {
   "codemirror_mode": {
    "name": "ipython",
    "version": 3
   },
   "file_extension": ".py",
   "mimetype": "text/x-python",
   "name": "python",
   "nbconvert_exporter": "python",
   "pygments_lexer": "ipython3",
   "version": "3.6.4"
  },
  "latex_envs": {
   "LaTeX_envs_menu_present": true,
   "autocomplete": true,
   "bibliofile": "biblio.bib",
   "cite_by": "apalike",
   "current_citInitial": 1,
   "eqLabelWithNumbers": true,
   "eqNumInitial": 1,
   "hotkeys": {
    "equation": "Ctrl-E",
    "itemize": "Ctrl-I"
   },
   "labels_anchors": false,
   "latex_user_defs": false,
   "report_style_numbering": false,
   "user_envs_cfg": false
  },
  "toc": {
   "nav_menu": {},
   "number_sections": true,
   "sideBar": true,
   "skip_h1_title": false,
   "toc_cell": false,
   "toc_position": {},
   "toc_section_display": "block",
   "toc_window_display": false
  }
 },
 "nbformat": 4,
 "nbformat_minor": 2
}
